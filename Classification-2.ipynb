{
 "cells": [
  {
   "cell_type": "markdown",
   "id": "5712f336-41df-4a0f-9655-2d9de67a5e49",
   "metadata": {},
   "source": [
    "### 1. Initial Data Preparation"
   ]
  },
  {
   "cell_type": "markdown",
   "id": "82e8dd5a-baf7-4e15-8df5-df3b1d8a6b37",
   "metadata": {},
   "source": [
    "#### Importing libraries"
   ]
  },
  {
   "cell_type": "code",
   "execution_count": 7,
   "id": "b3a906f6-af00-4037-8109-aecbfc3630f9",
   "metadata": {},
   "outputs": [],
   "source": [
    "import pandas as pd\n",
    "import numpy as np\n",
    "import matplotlib.pyplot as plt\n",
    "import seaborn as sns\n",
    "%matplotlib inline"
   ]
  },
  {
   "cell_type": "markdown",
   "id": "307ae105-1f70-4508-97e6-150859356e7f",
   "metadata": {},
   "source": [
    "#### Loading dataset"
   ]
  },
  {
   "cell_type": "code",
   "execution_count": 8,
   "id": "04cb63e1-d2c0-4840-ba0a-c6ab986553e9",
   "metadata": {},
   "outputs": [],
   "source": [
    "ad_data=pd.read_csv('advertising.csv')"
   ]
  },
  {
   "cell_type": "markdown",
   "id": "c8f9efe9-9aee-492e-adca-491ab14eb718",
   "metadata": {},
   "source": [
    "#### Dropping unnecessary features"
   ]
  },
  {
   "cell_type": "code",
   "execution_count": 9,
   "id": "d1f096ff-d2b1-45d8-9d53-53a99419526b",
   "metadata": {},
   "outputs": [],
   "source": [
    "ad_data.drop('Ad Topic Line', inplace=True, axis=1)"
   ]
  },
  {
   "cell_type": "code",
   "execution_count": 10,
   "id": "64ecde41-ce16-4fb4-9902-ef3ad0c9af0b",
   "metadata": {},
   "outputs": [],
   "source": [
    "ad_data.drop('Timestamp', inplace=True, axis=1)"
   ]
  },
  {
   "cell_type": "code",
   "execution_count": 11,
   "id": "0a92b1d1-a21b-40d5-8932-eafe0a318309",
   "metadata": {},
   "outputs": [
    {
     "name": "stdout",
     "output_type": "stream",
     "text": [
      "<class 'pandas.core.frame.DataFrame'>\n",
      "RangeIndex: 1000 entries, 0 to 999\n",
      "Data columns (total 8 columns):\n",
      " #   Column                    Non-Null Count  Dtype  \n",
      "---  ------                    --------------  -----  \n",
      " 0   Daily Time Spent on Site  1000 non-null   float64\n",
      " 1   Age                       1000 non-null   int64  \n",
      " 2   Area Income               1000 non-null   float64\n",
      " 3   Daily Internet Usage      1000 non-null   float64\n",
      " 4   City                      1000 non-null   object \n",
      " 5   Male                      1000 non-null   int64  \n",
      " 6   Country                   1000 non-null   object \n",
      " 7   Clicked on Ad             1000 non-null   int64  \n",
      "dtypes: float64(3), int64(3), object(2)\n",
      "memory usage: 62.6+ KB\n"
     ]
    }
   ],
   "source": [
    "ad_data.info()"
   ]
  },
  {
   "cell_type": "markdown",
   "id": "571687c1-742f-42a4-92c9-006930abc5e9",
   "metadata": {},
   "source": [
    "### 2. Target to be predicted is if an ad will be clicked by a user or not based on features considered"
   ]
  },
  {
   "cell_type": "code",
   "execution_count": 12,
   "id": "0b120f30-eb46-459a-887c-0907a30ab0ba",
   "metadata": {},
   "outputs": [],
   "source": [
    "X = ad_data.iloc[:, :-1].values\n",
    "Y = ad_data.iloc[:, -1].values"
   ]
  },
  {
   "cell_type": "markdown",
   "id": "d1bed427-5e0c-4d99-9910-e9fe0cca8889",
   "metadata": {},
   "source": [
    "#### One hot encoding"
   ]
  },
  {
   "cell_type": "code",
   "execution_count": 13,
   "id": "21e1192c-3941-41ef-a291-dad207532602",
   "metadata": {},
   "outputs": [
    {
     "name": "stdout",
     "output_type": "stream",
     "text": [
      "     Daily Time Spent on Site  Age  Area Income  Daily Internet Usage  Male  \\\n",
      "0                       68.95   35     61833.90                256.09     0   \n",
      "1                       80.23   31     68441.85                193.77     1   \n",
      "2                       69.47   26     59785.94                236.50     0   \n",
      "3                       74.15   29     54806.18                245.89     1   \n",
      "4                       68.37   35     73889.99                225.58     0   \n",
      "..                        ...  ...          ...                   ...   ...   \n",
      "995                     72.97   30     71384.57                208.58     1   \n",
      "996                     51.30   45     67782.17                134.42     1   \n",
      "997                     51.63   51     42415.72                120.37     1   \n",
      "998                     55.55   19     41920.79                187.95     0   \n",
      "999                     45.01   26     29875.80                178.35     0   \n",
      "\n",
      "     Clicked on Ad  City_Adamsbury  City_Adamside  City_Adamsstad  \\\n",
      "0                0               0              0               0   \n",
      "1                0               0              0               0   \n",
      "2                0               0              0               0   \n",
      "3                0               0              0               0   \n",
      "4                0               0              0               0   \n",
      "..             ...             ...            ...             ...   \n",
      "995              1               0              0               0   \n",
      "996              1               0              0               0   \n",
      "997              1               0              0               0   \n",
      "998              0               0              0               0   \n",
      "999              1               0              0               0   \n",
      "\n",
      "     City_Alanview  ...  Country_Uruguay  Country_Uzbekistan  Country_Vanuatu  \\\n",
      "0                0  ...                0                   0                0   \n",
      "1                0  ...                0                   0                0   \n",
      "2                0  ...                0                   0                0   \n",
      "3                0  ...                0                   0                0   \n",
      "4                0  ...                0                   0                0   \n",
      "..             ...  ...              ...                 ...              ...   \n",
      "995              0  ...                0                   0                0   \n",
      "996              0  ...                0                   0                0   \n",
      "997              0  ...                0                   0                0   \n",
      "998              0  ...                0                   0                0   \n",
      "999              0  ...                0                   0                0   \n",
      "\n",
      "     Country_Venezuela  Country_Vietnam  Country_Wallis and Futuna  \\\n",
      "0                    0                0                          0   \n",
      "1                    0                0                          0   \n",
      "2                    0                0                          0   \n",
      "3                    0                0                          0   \n",
      "4                    0                0                          0   \n",
      "..                 ...              ...                        ...   \n",
      "995                  0                0                          0   \n",
      "996                  0                0                          0   \n",
      "997                  0                0                          0   \n",
      "998                  0                0                          0   \n",
      "999                  0                0                          0   \n",
      "\n",
      "     Country_Western Sahara  Country_Yemen  Country_Zambia  Country_Zimbabwe  \n",
      "0                         0              0               0                 0  \n",
      "1                         0              0               0                 0  \n",
      "2                         0              0               0                 0  \n",
      "3                         0              0               0                 0  \n",
      "4                         0              0               0                 0  \n",
      "..                      ...            ...             ...               ...  \n",
      "995                       0              0               0                 0  \n",
      "996                       0              0               0                 0  \n",
      "997                       0              0               0                 0  \n",
      "998                       0              0               0                 0  \n",
      "999                       0              0               0                 0  \n",
      "\n",
      "[1000 rows x 1212 columns]\n"
     ]
    }
   ],
   "source": [
    "one_hot_encoded_data = pd.get_dummies(ad_data, columns = ['City', 'Country'])\n",
    "print(one_hot_encoded_data)"
   ]
  },
  {
   "cell_type": "code",
   "execution_count": 14,
   "id": "ff6d94b6-5c86-4427-ae97-35396d86c058",
   "metadata": {},
   "outputs": [],
   "source": [
    "Y = one_hot_encoded_data.iloc[:, 5].values"
   ]
  },
  {
   "cell_type": "code",
   "execution_count": 15,
   "id": "cba81a5c-24f2-4acf-bbe9-d5d1be5258c9",
   "metadata": {},
   "outputs": [],
   "source": [
    "one_hot_encoded_data.drop('Clicked on Ad', inplace=True, axis=1)"
   ]
  },
  {
   "cell_type": "code",
   "execution_count": 16,
   "id": "8b597a24-c5ef-4ed0-b1b4-3afbf95fc622",
   "metadata": {},
   "outputs": [
    {
     "name": "stdout",
     "output_type": "stream",
     "text": [
      "     Daily Time Spent on Site  Age  Area Income  Daily Internet Usage  Male  \\\n",
      "0                       68.95   35     61833.90                256.09     0   \n",
      "1                       80.23   31     68441.85                193.77     1   \n",
      "2                       69.47   26     59785.94                236.50     0   \n",
      "3                       74.15   29     54806.18                245.89     1   \n",
      "4                       68.37   35     73889.99                225.58     0   \n",
      "..                        ...  ...          ...                   ...   ...   \n",
      "995                     72.97   30     71384.57                208.58     1   \n",
      "996                     51.30   45     67782.17                134.42     1   \n",
      "997                     51.63   51     42415.72                120.37     1   \n",
      "998                     55.55   19     41920.79                187.95     0   \n",
      "999                     45.01   26     29875.80                178.35     0   \n",
      "\n",
      "     City_Adamsbury  City_Adamside  City_Adamsstad  City_Alanview  \\\n",
      "0                 0              0               0              0   \n",
      "1                 0              0               0              0   \n",
      "2                 0              0               0              0   \n",
      "3                 0              0               0              0   \n",
      "4                 0              0               0              0   \n",
      "..              ...            ...             ...            ...   \n",
      "995               0              0               0              0   \n",
      "996               0              0               0              0   \n",
      "997               0              0               0              0   \n",
      "998               0              0               0              0   \n",
      "999               0              0               0              0   \n",
      "\n",
      "     City_Alexanderfurt  ...  Country_Uruguay  Country_Uzbekistan  \\\n",
      "0                     0  ...                0                   0   \n",
      "1                     0  ...                0                   0   \n",
      "2                     0  ...                0                   0   \n",
      "3                     0  ...                0                   0   \n",
      "4                     0  ...                0                   0   \n",
      "..                  ...  ...              ...                 ...   \n",
      "995                   0  ...                0                   0   \n",
      "996                   0  ...                0                   0   \n",
      "997                   0  ...                0                   0   \n",
      "998                   0  ...                0                   0   \n",
      "999                   0  ...                0                   0   \n",
      "\n",
      "     Country_Vanuatu  Country_Venezuela  Country_Vietnam  \\\n",
      "0                  0                  0                0   \n",
      "1                  0                  0                0   \n",
      "2                  0                  0                0   \n",
      "3                  0                  0                0   \n",
      "4                  0                  0                0   \n",
      "..               ...                ...              ...   \n",
      "995                0                  0                0   \n",
      "996                0                  0                0   \n",
      "997                0                  0                0   \n",
      "998                0                  0                0   \n",
      "999                0                  0                0   \n",
      "\n",
      "     Country_Wallis and Futuna  Country_Western Sahara  Country_Yemen  \\\n",
      "0                            0                       0              0   \n",
      "1                            0                       0              0   \n",
      "2                            0                       0              0   \n",
      "3                            0                       0              0   \n",
      "4                            0                       0              0   \n",
      "..                         ...                     ...            ...   \n",
      "995                          0                       0              0   \n",
      "996                          0                       0              0   \n",
      "997                          0                       0              0   \n",
      "998                          0                       0              0   \n",
      "999                          0                       0              0   \n",
      "\n",
      "     Country_Zambia  Country_Zimbabwe  \n",
      "0                 0                 0  \n",
      "1                 0                 0  \n",
      "2                 0                 0  \n",
      "3                 0                 0  \n",
      "4                 0                 0  \n",
      "..              ...               ...  \n",
      "995               0                 0  \n",
      "996               0                 0  \n",
      "997               0                 0  \n",
      "998               0                 0  \n",
      "999               0                 0  \n",
      "\n",
      "[1000 rows x 1211 columns]\n"
     ]
    }
   ],
   "source": [
    "print(one_hot_encoded_data)"
   ]
  },
  {
   "cell_type": "code",
   "execution_count": 17,
   "id": "be6d80c2-a778-408d-8f9e-a4e4ee3e9361",
   "metadata": {},
   "outputs": [],
   "source": [
    "X = one_hot_encoded_data.iloc[:, :].values"
   ]
  },
  {
   "cell_type": "markdown",
   "id": "d309efa3-2c3c-4259-9a5d-30c7ac5d2fc8",
   "metadata": {},
   "source": [
    "#### Splitting into training and testing datasets"
   ]
  },
  {
   "cell_type": "code",
   "execution_count": 18,
   "id": "080cd6cb-c02d-40c7-bfca-e806f3f04425",
   "metadata": {},
   "outputs": [],
   "source": [
    "from sklearn.model_selection import train_test_split\n",
    "X_train, X_test, y_train, y_test = train_test_split(X, Y, test_size = 0.2, random_state = 1)"
   ]
  },
  {
   "cell_type": "markdown",
   "id": "784c4ea4-5809-45b6-9284-5c31a0445e18",
   "metadata": {},
   "source": [
    "#### Feature scaling"
   ]
  },
  {
   "cell_type": "code",
   "execution_count": 19,
   "id": "a2c582ab-10d4-4961-b272-292a6b701b8e",
   "metadata": {},
   "outputs": [],
   "source": [
    "from sklearn.preprocessing import StandardScaler\n",
    "sc = StandardScaler()\n",
    "X_train[:, :] = sc.fit_transform(X_train[:, :])\n",
    "X_test[:, :] = sc.transform(X_test[:, :])"
   ]
  },
  {
   "cell_type": "code",
   "execution_count": 20,
   "id": "7d7bb558-9ffa-4232-9d01-ff2e056c2e23",
   "metadata": {},
   "outputs": [],
   "source": [
    "from sklearn.preprocessing import StandardScaler\n",
    "sc = StandardScaler()\n",
    "X_train = sc.fit_transform(X_train)\n",
    "X_test = sc.transform(X_test)"
   ]
  },
  {
   "cell_type": "markdown",
   "id": "802f4f17-2a61-4614-bc18-846a978e9b02",
   "metadata": {},
   "source": [
    "### 3. Training with Decision tree Model"
   ]
  },
  {
   "cell_type": "code",
   "execution_count": 21,
   "id": "d5651ca4-0057-4fa4-88ae-981622ed9df4",
   "metadata": {},
   "outputs": [
    {
     "data": {
      "text/plain": [
       "DecisionTreeClassifier(criterion='entropy', max_depth=2, random_state=0)"
      ]
     },
     "execution_count": 21,
     "metadata": {},
     "output_type": "execute_result"
    }
   ],
   "source": [
    "from sklearn.tree import DecisionTreeClassifier\n",
    "classifier = DecisionTreeClassifier(criterion = 'entropy', random_state = 0, splitter = 'best', max_depth = 2)\n",
    "classifier.fit(X_train, y_train)"
   ]
  },
  {
   "cell_type": "markdown",
   "id": "55cee8c9-e800-48f9-9708-bd2c2c98da51",
   "metadata": {},
   "source": [
    "#### Computing values for test set using Decision Tree"
   ]
  },
  {
   "cell_type": "code",
   "execution_count": 22,
   "id": "6264f72c-2d82-48f5-b535-62c1bd508cb0",
   "metadata": {},
   "outputs": [
    {
     "name": "stdout",
     "output_type": "stream",
     "text": [
      "[[1 1]\n",
      " [0 0]\n",
      " [0 0]\n",
      " [0 0]\n",
      " [0 0]\n",
      " [0 1]\n",
      " [1 1]\n",
      " [1 1]\n",
      " [0 0]\n",
      " [1 1]\n",
      " [1 1]\n",
      " [1 1]\n",
      " [1 1]\n",
      " [0 0]\n",
      " [1 1]\n",
      " [0 0]\n",
      " [0 0]\n",
      " [0 0]\n",
      " [0 1]\n",
      " [0 0]\n",
      " [0 1]\n",
      " [0 0]\n",
      " [0 0]\n",
      " [0 0]\n",
      " [0 0]\n",
      " [0 1]\n",
      " [1 1]\n",
      " [1 1]\n",
      " [1 1]\n",
      " [0 0]\n",
      " [1 1]\n",
      " [0 0]\n",
      " [1 1]\n",
      " [1 1]\n",
      " [1 1]\n",
      " [0 0]\n",
      " [1 1]\n",
      " [1 1]\n",
      " [0 0]\n",
      " [0 0]\n",
      " [0 0]\n",
      " [0 0]\n",
      " [1 1]\n",
      " [0 0]\n",
      " [1 1]\n",
      " [0 0]\n",
      " [0 0]\n",
      " [0 0]\n",
      " [0 0]\n",
      " [0 1]\n",
      " [1 1]\n",
      " [1 1]\n",
      " [0 0]\n",
      " [0 0]\n",
      " [1 1]\n",
      " [0 0]\n",
      " [1 1]\n",
      " [1 1]\n",
      " [0 0]\n",
      " [0 0]\n",
      " [0 0]\n",
      " [0 1]\n",
      " [0 0]\n",
      " [1 1]\n",
      " [0 1]\n",
      " [0 0]\n",
      " [0 0]\n",
      " [1 1]\n",
      " [1 1]\n",
      " [0 0]\n",
      " [0 1]\n",
      " [1 1]\n",
      " [1 1]\n",
      " [0 0]\n",
      " [0 0]\n",
      " [0 0]\n",
      " [1 1]\n",
      " [1 1]\n",
      " [0 0]\n",
      " [1 1]\n",
      " [0 0]\n",
      " [0 0]\n",
      " [1 1]\n",
      " [1 1]\n",
      " [1 1]\n",
      " [1 1]\n",
      " [1 1]\n",
      " [0 0]\n",
      " [0 1]\n",
      " [1 0]\n",
      " [0 0]\n",
      " [1 1]\n",
      " [0 1]\n",
      " [1 1]\n",
      " [0 0]\n",
      " [0 1]\n",
      " [0 0]\n",
      " [0 0]\n",
      " [0 0]\n",
      " [0 0]\n",
      " [1 1]\n",
      " [0 0]\n",
      " [1 1]\n",
      " [1 1]\n",
      " [1 1]\n",
      " [0 0]\n",
      " [0 0]\n",
      " [0 0]\n",
      " [0 1]\n",
      " [1 1]\n",
      " [1 1]\n",
      " [1 1]\n",
      " [1 1]\n",
      " [1 1]\n",
      " [0 0]\n",
      " [0 0]\n",
      " [0 0]\n",
      " [0 0]\n",
      " [0 0]\n",
      " [1 1]\n",
      " [1 1]\n",
      " [0 0]\n",
      " [0 0]\n",
      " [0 0]\n",
      " [0 0]\n",
      " [0 0]\n",
      " [0 0]\n",
      " [0 1]\n",
      " [1 1]\n",
      " [0 1]\n",
      " [0 0]\n",
      " [1 1]\n",
      " [0 0]\n",
      " [0 0]\n",
      " [1 1]\n",
      " [0 1]\n",
      " [1 1]\n",
      " [0 0]\n",
      " [1 1]\n",
      " [0 0]\n",
      " [1 1]\n",
      " [1 1]\n",
      " [1 1]\n",
      " [0 0]\n",
      " [0 1]\n",
      " [0 0]\n",
      " [0 0]\n",
      " [1 1]\n",
      " [0 0]\n",
      " [1 1]\n",
      " [0 1]\n",
      " [1 1]\n",
      " [0 0]\n",
      " [1 1]\n",
      " [1 1]\n",
      " [1 1]\n",
      " [0 0]\n",
      " [0 0]\n",
      " [0 0]\n",
      " [0 0]\n",
      " [0 1]\n",
      " [1 1]\n",
      " [0 0]\n",
      " [0 0]\n",
      " [1 1]\n",
      " [0 0]\n",
      " [0 0]\n",
      " [0 0]\n",
      " [0 0]\n",
      " [0 1]\n",
      " [1 1]\n",
      " [0 0]\n",
      " [1 1]\n",
      " [1 1]\n",
      " [0 0]\n",
      " [0 0]\n",
      " [1 1]\n",
      " [0 0]\n",
      " [0 0]\n",
      " [0 0]\n",
      " [1 1]\n",
      " [0 0]\n",
      " [0 0]\n",
      " [0 0]\n",
      " [1 1]\n",
      " [0 0]\n",
      " [0 0]\n",
      " [1 1]\n",
      " [1 1]\n",
      " [0 0]\n",
      " [0 0]\n",
      " [0 0]\n",
      " [0 1]\n",
      " [1 1]\n",
      " [1 1]\n",
      " [0 0]\n",
      " [0 0]\n",
      " [0 0]\n",
      " [1 1]\n",
      " [0 0]]\n"
     ]
    }
   ],
   "source": [
    "y_pred = classifier.predict(X_test)\n",
    "print(np.concatenate((y_pred.reshape(len(y_pred),1), y_test.reshape(len(y_test),1)),1))"
   ]
  },
  {
   "cell_type": "markdown",
   "id": "be47ffb1-211f-475f-9a03-5d1bf01e6d20",
   "metadata": {},
   "source": [
    "#### Computing metrics"
   ]
  },
  {
   "cell_type": "code",
   "execution_count": 23,
   "id": "e6de64db-6c24-4807-877f-f09c34463eaf",
   "metadata": {},
   "outputs": [
    {
     "name": "stdout",
     "output_type": "stream",
     "text": [
      "[[102   1]\n",
      " [ 20  77]]\n",
      "accuracy:  0.895\n",
      "precision:  0.9871794871794872\n",
      "Recall:  0.7938144329896907\n",
      "f1_score: 0.88\n"
     ]
    }
   ],
   "source": [
    "from sklearn.metrics import confusion_matrix, accuracy_score, precision_score, recall_score, f1_score\n",
    "cm = confusion_matrix(y_test, y_pred)\n",
    "print(cm)\n",
    "print(\"accuracy: \",accuracy_score(y_test, y_pred))\n",
    "print(\"precision: \",precision_score(y_test, y_pred))\n",
    "print(\"Recall: \", recall_score(y_test, y_pred))\n",
    "print(\"f1_score:\", f1_score(y_test, y_pred))\n",
    "\n"
   ]
  },
  {
   "cell_type": "markdown",
   "id": "c4e4187e-cca7-4351-b360-8e986208ffd3",
   "metadata": {},
   "source": [
    "### 4. Training the Support vector Claasifier on Training Model"
   ]
  },
  {
   "cell_type": "code",
   "execution_count": 24,
   "id": "5765a5f1-38d9-42d7-94ef-e255f27a8db9",
   "metadata": {},
   "outputs": [
    {
     "data": {
      "text/plain": [
       "SVC(kernel='linear', random_state=0)"
      ]
     },
     "execution_count": 24,
     "metadata": {},
     "output_type": "execute_result"
    }
   ],
   "source": [
    "from sklearn.svm import SVC\n",
    "s_classifier = SVC(kernel = 'linear', random_state = 0)\n",
    "s_classifier.fit(X_train, y_train)"
   ]
  },
  {
   "cell_type": "markdown",
   "id": "0a852184-6289-4fa8-ba70-2a415aa218dd",
   "metadata": {},
   "source": [
    "#### Computing values for test set using SVC"
   ]
  },
  {
   "cell_type": "code",
   "execution_count": 25,
   "id": "edce0245-5de3-4b7a-b99e-5a6d39ae5da4",
   "metadata": {},
   "outputs": [
    {
     "name": "stdout",
     "output_type": "stream",
     "text": [
      "[[1 1]\n",
      " [0 0]\n",
      " [0 0]\n",
      " [0 0]\n",
      " [0 0]\n",
      " [1 1]\n",
      " [1 1]\n",
      " [1 1]\n",
      " [0 0]\n",
      " [1 1]\n",
      " [1 1]\n",
      " [1 1]\n",
      " [1 1]\n",
      " [0 0]\n",
      " [1 1]\n",
      " [0 0]\n",
      " [0 0]\n",
      " [0 0]\n",
      " [0 1]\n",
      " [0 0]\n",
      " [0 1]\n",
      " [0 0]\n",
      " [0 0]\n",
      " [0 0]\n",
      " [0 0]\n",
      " [0 1]\n",
      " [1 1]\n",
      " [1 1]\n",
      " [0 1]\n",
      " [0 0]\n",
      " [1 1]\n",
      " [0 0]\n",
      " [1 1]\n",
      " [1 1]\n",
      " [1 1]\n",
      " [0 0]\n",
      " [1 1]\n",
      " [1 1]\n",
      " [0 0]\n",
      " [0 0]\n",
      " [0 0]\n",
      " [0 0]\n",
      " [1 1]\n",
      " [0 0]\n",
      " [1 1]\n",
      " [0 0]\n",
      " [0 0]\n",
      " [0 0]\n",
      " [0 0]\n",
      " [0 1]\n",
      " [1 1]\n",
      " [1 1]\n",
      " [0 0]\n",
      " [0 0]\n",
      " [1 1]\n",
      " [0 0]\n",
      " [1 1]\n",
      " [1 1]\n",
      " [0 0]\n",
      " [0 0]\n",
      " [0 0]\n",
      " [1 1]\n",
      " [0 0]\n",
      " [1 1]\n",
      " [0 1]\n",
      " [0 0]\n",
      " [0 0]\n",
      " [1 1]\n",
      " [1 1]\n",
      " [0 0]\n",
      " [1 1]\n",
      " [1 1]\n",
      " [1 1]\n",
      " [0 0]\n",
      " [0 0]\n",
      " [0 0]\n",
      " [1 1]\n",
      " [1 1]\n",
      " [0 0]\n",
      " [0 1]\n",
      " [0 0]\n",
      " [0 0]\n",
      " [1 1]\n",
      " [1 1]\n",
      " [1 1]\n",
      " [1 1]\n",
      " [1 1]\n",
      " [0 0]\n",
      " [0 1]\n",
      " [0 0]\n",
      " [0 0]\n",
      " [1 1]\n",
      " [0 1]\n",
      " [1 1]\n",
      " [0 0]\n",
      " [1 1]\n",
      " [0 0]\n",
      " [0 0]\n",
      " [0 0]\n",
      " [0 0]\n",
      " [1 1]\n",
      " [0 0]\n",
      " [1 1]\n",
      " [1 1]\n",
      " [1 1]\n",
      " [0 0]\n",
      " [0 0]\n",
      " [0 0]\n",
      " [1 1]\n",
      " [1 1]\n",
      " [1 1]\n",
      " [1 1]\n",
      " [1 1]\n",
      " [1 1]\n",
      " [0 0]\n",
      " [0 0]\n",
      " [0 0]\n",
      " [0 0]\n",
      " [0 0]\n",
      " [1 1]\n",
      " [1 1]\n",
      " [0 0]\n",
      " [0 0]\n",
      " [0 0]\n",
      " [0 0]\n",
      " [0 0]\n",
      " [0 0]\n",
      " [0 1]\n",
      " [1 1]\n",
      " [1 1]\n",
      " [0 0]\n",
      " [1 1]\n",
      " [0 0]\n",
      " [0 0]\n",
      " [1 1]\n",
      " [0 1]\n",
      " [1 1]\n",
      " [0 0]\n",
      " [1 1]\n",
      " [0 0]\n",
      " [1 1]\n",
      " [1 1]\n",
      " [1 1]\n",
      " [0 0]\n",
      " [1 1]\n",
      " [0 0]\n",
      " [0 0]\n",
      " [1 1]\n",
      " [0 0]\n",
      " [1 1]\n",
      " [1 1]\n",
      " [1 1]\n",
      " [0 0]\n",
      " [1 1]\n",
      " [1 1]\n",
      " [1 1]\n",
      " [0 0]\n",
      " [0 0]\n",
      " [0 0]\n",
      " [0 0]\n",
      " [0 1]\n",
      " [1 1]\n",
      " [0 0]\n",
      " [0 0]\n",
      " [1 1]\n",
      " [0 0]\n",
      " [0 0]\n",
      " [0 0]\n",
      " [0 0]\n",
      " [1 1]\n",
      " [1 1]\n",
      " [0 0]\n",
      " [1 1]\n",
      " [1 1]\n",
      " [0 0]\n",
      " [0 0]\n",
      " [1 1]\n",
      " [0 0]\n",
      " [0 0]\n",
      " [0 0]\n",
      " [1 1]\n",
      " [0 0]\n",
      " [0 0]\n",
      " [0 0]\n",
      " [1 1]\n",
      " [0 0]\n",
      " [1 0]\n",
      " [1 1]\n",
      " [1 1]\n",
      " [0 0]\n",
      " [0 0]\n",
      " [0 0]\n",
      " [0 1]\n",
      " [1 1]\n",
      " [1 1]\n",
      " [0 0]\n",
      " [0 0]\n",
      " [0 0]\n",
      " [1 1]\n",
      " [0 0]]\n"
     ]
    }
   ],
   "source": [
    "y_pred = s_classifier.predict(X_test)\n",
    "print(np.concatenate((y_pred.reshape(len(y_pred),1), y_test.reshape(len(y_test),1)),1))"
   ]
  },
  {
   "cell_type": "markdown",
   "id": "ba646d99-17f5-4590-a961-72098e5a6406",
   "metadata": {},
   "source": [
    "#### Computing metrics using SVC"
   ]
  },
  {
   "cell_type": "code",
   "execution_count": 26,
   "id": "946b68e1-0c4e-462e-beee-4e66a31dad9c",
   "metadata": {},
   "outputs": [
    {
     "name": "stdout",
     "output_type": "stream",
     "text": [
      "[[102   1]\n",
      " [ 13  84]]\n"
     ]
    },
    {
     "data": {
      "text/plain": [
       "0.93"
      ]
     },
     "execution_count": 26,
     "metadata": {},
     "output_type": "execute_result"
    }
   ],
   "source": [
    "from sklearn.metrics import confusion_matrix, accuracy_score\n",
    "cm = confusion_matrix(y_test, y_pred)\n",
    "print(cm)\n",
    "accuracy_score(y_test, y_pred)"
   ]
  },
  {
   "cell_type": "markdown",
   "id": "2b01d5d9-a2c2-461a-b03c-c14152d54050",
   "metadata": {},
   "source": [
    "### 5. Results - Accuracy for SVC is 93% which is pretty good than the accuracy of Decision Tree Classifier that is 89%. \n",
    "### SVM outperformed Decision Tree "
   ]
  },
  {
   "cell_type": "markdown",
   "id": "8be4a188-fdd6-4c27-a7c5-d6c04f4d0bbc",
   "metadata": {},
   "source": [
    "### Final Evaluation with test set"
   ]
  },
  {
   "cell_type": "code",
   "execution_count": 27,
   "id": "edef8de4-c8ab-4e1f-a723-6bc33762a3e0",
   "metadata": {},
   "outputs": [],
   "source": [
    "y_prediction=classifier.predict(X_test)"
   ]
  },
  {
   "cell_type": "code",
   "execution_count": 28,
   "id": "5669d8c9-d814-4b49-ad92-3ac23fc3f650",
   "metadata": {},
   "outputs": [
    {
     "name": "stdout",
     "output_type": "stream",
     "text": [
      "[1 0 0 0 0 0 1 1 0 1 1 1 1 0 1 0 0 0 0 0 0 0 0 0 0 0 1 1 1 0 1 0 1 1 1 0 1\n",
      " 1 0 0 0 0 1 0 1 0 0 0 0 0 1 1 0 0 1 0 1 1 0 0 0 0 0 1 0 0 0 1 1 0 0 1 1 0\n",
      " 0 0 1 1 0 1 0 0 1 1 1 1 1 0 0 1 0 1 0 1 0 0 0 0 0 0 1 0 1 1 1 0 0 0 0 1 1\n",
      " 1 1 1 0 0 0 0 0 1 1 0 0 0 0 0 0 0 1 0 0 1 0 0 1 0 1 0 1 0 1 1 1 0 0 0 0 1\n",
      " 0 1 0 1 0 1 1 1 0 0 0 0 0 1 0 0 1 0 0 0 0 0 1 0 1 1 0 0 1 0 0 0 1 0 0 0 1\n",
      " 0 0 1 1 0 0 0 0 1 1 0 0 0 1 0]\n"
     ]
    }
   ],
   "source": [
    "print(y_prediction)"
   ]
  },
  {
   "cell_type": "code",
   "execution_count": 29,
   "id": "4b67fa6e-1378-4c42-87df-b1ee2165426e",
   "metadata": {},
   "outputs": [],
   "source": [
    "y_pred_svc=s_classifier.predict(X_test)"
   ]
  },
  {
   "cell_type": "code",
   "execution_count": 30,
   "id": "dcfb358e-7f36-48ec-a399-1e761df5c127",
   "metadata": {},
   "outputs": [
    {
     "name": "stdout",
     "output_type": "stream",
     "text": [
      "[1 0 0 0 0 1 1 1 0 1 1 1 1 0 1 0 0 0 0 0 0 0 0 0 0 0 1 1 0 0 1 0 1 1 1 0 1\n",
      " 1 0 0 0 0 1 0 1 0 0 0 0 0 1 1 0 0 1 0 1 1 0 0 0 1 0 1 0 0 0 1 1 0 1 1 1 0\n",
      " 0 0 1 1 0 0 0 0 1 1 1 1 1 0 0 0 0 1 0 1 0 1 0 0 0 0 1 0 1 1 1 0 0 0 1 1 1\n",
      " 1 1 1 0 0 0 0 0 1 1 0 0 0 0 0 0 0 1 1 0 1 0 0 1 0 1 0 1 0 1 1 1 0 1 0 0 1\n",
      " 0 1 1 1 0 1 1 1 0 0 0 0 0 1 0 0 1 0 0 0 0 1 1 0 1 1 0 0 1 0 0 0 1 0 0 0 1\n",
      " 0 1 1 1 0 0 0 0 1 1 0 0 0 1 0]\n"
     ]
    }
   ],
   "source": [
    "print(y_pred_svc)"
   ]
  },
  {
   "cell_type": "markdown",
   "id": "bf42ac39-9e1c-4e97-ba1b-78abac1d5d38",
   "metadata": {},
   "source": [
    "### 7. Parameters found and things learnt\n",
    "\n",
    "random_state, splitter, max_depth are the parameters used in decision tree classifier. I used best for splitter and max depth as 2, If I increase max depth then it leads to overfitting. And In Support vector classifiers I have tried with different kernels and finally considered the best one."
   ]
  },
  {
   "cell_type": "markdown",
   "id": "9633bbf7-9803-448a-8991-31af1a59816b",
   "metadata": {},
   "source": [
    "From this project milestone, I have learnt that- If there are n features and a target variable which is a categorical one,\n",
    "then using the classifier algorithms, a model can be generated by giving the labelled training data to the model.\n",
    "The model learns the patterns that are present in the training data and this patterns can be used to predict the values of the testing data."
   ]
  },
  {
   "cell_type": "code",
   "execution_count": null,
   "id": "affe670e-e34e-4202-889d-b531de680b6e",
   "metadata": {},
   "outputs": [],
   "source": []
  }
 ],
 "metadata": {
  "kernelspec": {
   "display_name": "Python 3 (ipykernel)",
   "language": "python",
   "name": "python3"
  },
  "language_info": {
   "codemirror_mode": {
    "name": "ipython",
    "version": 3
   },
   "file_extension": ".py",
   "mimetype": "text/x-python",
   "name": "python",
   "nbconvert_exporter": "python",
   "pygments_lexer": "ipython3",
   "version": "3.9.12"
  }
 },
 "nbformat": 4,
 "nbformat_minor": 5
}
