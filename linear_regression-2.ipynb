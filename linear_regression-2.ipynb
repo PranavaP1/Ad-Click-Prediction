{
 "cells": [
  {
   "cell_type": "markdown",
   "id": "09c1319d-7785-4398-8dc4-231f6308aaea",
   "metadata": {},
   "source": [
    "### 1. Initial Data Preparation"
   ]
  },
  {
   "cell_type": "code",
   "execution_count": 1,
   "id": "4b3a5e40-9e3b-418d-be5a-5d0ee8f1be41",
   "metadata": {},
   "outputs": [],
   "source": [
    "import pandas as pd\n",
    "import numpy as np\n",
    "import matplotlib.pyplot as plt\n",
    "import seaborn as sns\n",
    "%matplotlib inline"
   ]
  },
  {
   "cell_type": "markdown",
   "id": "6352a438-7fe8-423c-8f49-4de521637a17",
   "metadata": {},
   "source": [
    "### Loading the dataset"
   ]
  },
  {
   "cell_type": "code",
   "execution_count": 15,
   "id": "df7968a4-ef87-4e69-af37-572f06e16244",
   "metadata": {},
   "outputs": [],
   "source": [
    "ad_data=pd.read_csv('advertising.csv')"
   ]
  },
  {
   "cell_type": "markdown",
   "id": "40cd7b9c-1537-47a4-b8ea-f949e2ee0343",
   "metadata": {},
   "source": [
    "##### Features considered are : Daily Time Spent on Site, Age, Area Income, City, Country, Daily Internet Usage, Male"
   ]
  },
  {
   "cell_type": "markdown",
   "id": "d888c964-b91d-4047-ba6c-fd65572e42f5",
   "metadata": {},
   "source": [
    "##  Data Cleaning"
   ]
  },
  {
   "cell_type": "markdown",
   "id": "4c43545f-ad57-4d64-9fff-fd243b3ae567",
   "metadata": {},
   "source": [
    "### Removing unnecessary text columns : Ad Topic Line, Timestamp"
   ]
  },
  {
   "cell_type": "code",
   "execution_count": 16,
   "id": "bb362565-997c-4ace-8b58-278e11810137",
   "metadata": {},
   "outputs": [],
   "source": [
    "ad_data.drop('Ad Topic Line', inplace=True, axis=1)"
   ]
  },
  {
   "cell_type": "code",
   "execution_count": 17,
   "id": "b758e3a3-75a4-44eb-ac66-deb6dbbad364",
   "metadata": {},
   "outputs": [],
   "source": [
    "ad_data.drop('Timestamp', inplace=True, axis=1)"
   ]
  },
  {
   "cell_type": "code",
   "execution_count": 18,
   "id": "c6f6eb95-49f3-4710-af9a-8dcbaacf33fa",
   "metadata": {},
   "outputs": [
    {
     "name": "stdout",
     "output_type": "stream",
     "text": [
      "     Daily Time Spent on Site  Age  Area Income  Daily Internet Usage  \\\n",
      "0                       68.95   35     61833.90                256.09   \n",
      "1                       80.23   31     68441.85                193.77   \n",
      "2                       69.47   26     59785.94                236.50   \n",
      "3                       74.15   29     54806.18                245.89   \n",
      "4                       68.37   35     73889.99                225.58   \n",
      "..                        ...  ...          ...                   ...   \n",
      "995                     72.97   30     71384.57                208.58   \n",
      "996                     51.30   45     67782.17                134.42   \n",
      "997                     51.63   51     42415.72                120.37   \n",
      "998                     55.55   19     41920.79                187.95   \n",
      "999                     45.01   26     29875.80                178.35   \n",
      "\n",
      "               City  Male                 Country  Clicked on Ad  \n",
      "0       Wrightburgh     0                 Tunisia              0  \n",
      "1         West Jodi     1                   Nauru              0  \n",
      "2          Davidton     0              San Marino              0  \n",
      "3    West Terrifurt     1                   Italy              0  \n",
      "4      South Manuel     0                 Iceland              0  \n",
      "..              ...   ...                     ...            ...  \n",
      "995       Duffystad     1                 Lebanon              1  \n",
      "996     New Darlene     1  Bosnia and Herzegovina              1  \n",
      "997   South Jessica     1                Mongolia              1  \n",
      "998     West Steven     0               Guatemala              0  \n",
      "999     Ronniemouth     0                  Brazil              1  \n",
      "\n",
      "[1000 rows x 8 columns]\n"
     ]
    }
   ],
   "source": [
    "print(ad_data)"
   ]
  },
  {
   "cell_type": "markdown",
   "id": "e0a62599-6800-4835-8f40-65b25d88aae9",
   "metadata": {},
   "source": [
    "### 2. Features are all except the target variable which is clicked on ad. Clicked on ad is a target variable which tells that an ad is being clicked or not based on the selected features"
   ]
  },
  {
   "cell_type": "code",
   "execution_count": 19,
   "id": "045f4921-4615-4007-9c39-27013709358a",
   "metadata": {},
   "outputs": [],
   "source": [
    "X = ad_data.iloc[:, :-1].values\n",
    "Y = ad_data.iloc[:, -1].values"
   ]
  },
  {
   "cell_type": "code",
   "execution_count": 20,
   "id": "77513a3b-b73e-4cec-9248-1a8a60c3633e",
   "metadata": {},
   "outputs": [
    {
     "name": "stdout",
     "output_type": "stream",
     "text": [
      "[[68.95 35 61833.9 ... 'Wrightburgh' 0 'Tunisia']\n",
      " [80.23 31 68441.85 ... 'West Jodi' 1 'Nauru']\n",
      " [69.47 26 59785.94 ... 'Davidton' 0 'San Marino']\n",
      " ...\n",
      " [51.63 51 42415.72 ... 'South Jessica' 1 'Mongolia']\n",
      " [55.55 19 41920.79 ... 'West Steven' 0 'Guatemala']\n",
      " [45.01 26 29875.8 ... 'Ronniemouth' 0 'Brazil']]\n"
     ]
    }
   ],
   "source": [
    "print(X)"
   ]
  },
  {
   "cell_type": "code",
   "execution_count": 21,
   "id": "28e2363b-9f40-4f8d-80ad-b32c6b26efb5",
   "metadata": {},
   "outputs": [
    {
     "name": "stdout",
     "output_type": "stream",
     "text": [
      "[0 0 0 0 0 0 0 1 0 0 1 0 1 0 1 1 1 0 1 1 0 0 1 0 1 0 1 1 1 0 0 0 1 1 1 0 1\n",
      " 0 1 1 0 0 0 0 0 1 0 0 1 1 0 0 1 1 1 0 1 1 0 1 0 0 0 0 1 0 1 1 0 1 1 0 1 1\n",
      " 1 0 1 0 1 1 0 0 1 1 0 1 0 1 1 1 1 1 0 1 1 0 1 1 1 0 1 0 0 0 0 0 0 1 1 0 1\n",
      " 1 0 1 0 0 1 1 1 1 0 0 0 1 1 0 1 0 0 0 1 1 1 0 1 1 1 1 0 0 0 1 1 0 0 1 1 1\n",
      " 1 1 0 0 1 0 0 0 1 1 0 1 0 0 0 0 1 1 1 0 1 0 1 0 0 0 1 0 1 0 1 0 1 1 1 0 0\n",
      " 1 1 0 1 1 1 1 1 1 0 1 1 0 0 0 0 0 1 0 0 1 0 0 1 1 0 1 0 1 0 1 1 1 1 1 0 0\n",
      " 1 1 0 1 1 1 0 0 0 1 1 1 1 1 1 0 1 0 1 1 0 0 0 0 1 1 1 1 0 1 0 1 1 0 0 1 0\n",
      " 1 0 1 1 1 0 1 1 0 1 0 1 0 0 0 0 1 0 0 0 0 1 1 1 0 1 0 1 0 1 1 1 0 1 0 0 0\n",
      " 0 0 0 0 0 1 1 1 1 1 0 0 0 1 0 0 1 0 0 1 0 0 0 1 1 0 0 0 0 1 1 0 0 1 0 0 1\n",
      " 0 0 1 0 0 0 0 1 1 0 0 1 0 0 1 0 1 0 0 0 0 1 0 1 1 1 0 1 1 0 1 0 1 0 0 0 0\n",
      " 1 1 0 1 0 0 0 1 1 0 0 1 0 0 1 0 0 1 0 1 0 0 0 0 1 0 1 1 0 0 1 0 1 0 1 0 1\n",
      " 1 1 1 1 0 0 1 0 1 1 0 0 0 1 0 1 1 1 1 1 0 1 0 0 0 1 0 0 1 0 0 1 0 1 0 1 1\n",
      " 1 0 1 0 1 0 1 1 0 0 1 0 1 0 1 0 1 1 0 1 0 1 1 1 1 0 1 0 0 0 1 0 0 1 1 1 0\n",
      " 0 0 1 1 1 0 0 1 0 1 1 0 1 1 0 0 1 0 1 1 0 0 1 1 0 0 1 1 0 1 0 0 1 0 1 0 1\n",
      " 1 1 1 1 0 1 0 0 1 0 1 0 1 1 0 0 0 0 0 0 0 0 0 0 0 1 0 1 0 0 0 0 0 0 1 1 1\n",
      " 0 1 0 0 0 1 1 0 0 1 0 1 0 0 0 1 0 0 1 1 1 1 0 0 0 1 1 1 1 1 0 0 1 0 1 1 1\n",
      " 0 0 1 1 0 0 0 1 1 1 1 0 1 1 0 0 1 1 1 1 0 0 0 1 1 0 1 0 0 0 1 0 0 1 0 1 1\n",
      " 0 0 0 0 1 1 1 1 0 1 0 1 0 0 0 0 1 1 1 0 0 0 0 0 0 0 1 0 0 0 0 1 1 1 1 0 1\n",
      " 0 0 1 1 0 1 0 1 0 0 1 1 0 1 0 1 1 0 1 0 0 0 0 0 0 0 1 1 0 0 1 0 0 0 0 1 1\n",
      " 0 0 0 1 0 1 1 1 0 0 1 0 1 1 0 0 1 0 1 1 0 0 0 0 0 0 0 0 0 0 1 1 0 0 1 1 0\n",
      " 1 0 0 1 1 1 1 1 1 0 1 0 0 0 0 0 1 1 1 1 0 0 1 1 1 1 1 1 1 0 0 0 0 1 1 1 1\n",
      " 0 1 0 1 1 0 0 1 1 0 1 0 1 1 1 0 1 1 0 0 0 0 0 1 1 1 1 1 0 1 1 1 1 1 0 0 0\n",
      " 0 0 1 1 0 0 1 0 1 0 0 0 0 1 1 1 1 1 1 1 0 0 1 1 1 1 1 1 0 0 0 1 1 0 0 1 0\n",
      " 1 1 0 1 1 0 0 1 0 1 0 0 0 0 1 0 0 0 0 1 0 0 0 0 1 1 0 0 0 1 0 0 1 0 1 1 1\n",
      " 0 1 0 1 1 0 0 0 0 1 1 1 1 1 1 0 0 0 1 0 1 0 1 1 1 0 1 1 1 0 0 0 0 1 1 1 1\n",
      " 1 0 0 0 1 0 1 1 1 0 0 1 1 1 0 1 1 1 1 1 0 0 1 1 1 1 1 1 1 0 1 1 0 0 0 1 0\n",
      " 0 0 0 1 1 0 1 1 1 1 1 0 1 1 1 1 0 0 1 0 1 0 0 1 0 1 0 0 1 1 1 0 1 1 1 1 0\n",
      " 1]\n"
     ]
    }
   ],
   "source": [
    "print(Y)"
   ]
  },
  {
   "cell_type": "markdown",
   "id": "f72babd3-abae-4d29-b70f-a7e6353a1ba0",
   "metadata": {},
   "source": [
    "### Encoding categorical variables: City and Country"
   ]
  },
  {
   "cell_type": "code",
   "execution_count": 9,
   "id": "0baa308d-c07d-496a-a610-3a15ea11e340",
   "metadata": {},
   "outputs": [
    {
     "name": "stdout",
     "output_type": "stream",
     "text": [
      "     Daily Time Spent on Site  Age  Area Income  Daily Internet Usage  Male  \\\n",
      "0                       68.95   35     61833.90                256.09     0   \n",
      "1                       80.23   31     68441.85                193.77     1   \n",
      "2                       69.47   26     59785.94                236.50     0   \n",
      "3                       74.15   29     54806.18                245.89     1   \n",
      "4                       68.37   35     73889.99                225.58     0   \n",
      "..                        ...  ...          ...                   ...   ...   \n",
      "995                     72.97   30     71384.57                208.58     1   \n",
      "996                     51.30   45     67782.17                134.42     1   \n",
      "997                     51.63   51     42415.72                120.37     1   \n",
      "998                     55.55   19     41920.79                187.95     0   \n",
      "999                     45.01   26     29875.80                178.35     0   \n",
      "\n",
      "     Clicked on Ad  City_Adamsbury  City_Adamside  City_Adamsstad  \\\n",
      "0                0               0              0               0   \n",
      "1                0               0              0               0   \n",
      "2                0               0              0               0   \n",
      "3                0               0              0               0   \n",
      "4                0               0              0               0   \n",
      "..             ...             ...            ...             ...   \n",
      "995              1               0              0               0   \n",
      "996              1               0              0               0   \n",
      "997              1               0              0               0   \n",
      "998              0               0              0               0   \n",
      "999              1               0              0               0   \n",
      "\n",
      "     City_Alanview  ...  Country_Uruguay  Country_Uzbekistan  Country_Vanuatu  \\\n",
      "0                0  ...                0                   0                0   \n",
      "1                0  ...                0                   0                0   \n",
      "2                0  ...                0                   0                0   \n",
      "3                0  ...                0                   0                0   \n",
      "4                0  ...                0                   0                0   \n",
      "..             ...  ...              ...                 ...              ...   \n",
      "995              0  ...                0                   0                0   \n",
      "996              0  ...                0                   0                0   \n",
      "997              0  ...                0                   0                0   \n",
      "998              0  ...                0                   0                0   \n",
      "999              0  ...                0                   0                0   \n",
      "\n",
      "     Country_Venezuela  Country_Vietnam  Country_Wallis and Futuna  \\\n",
      "0                    0                0                          0   \n",
      "1                    0                0                          0   \n",
      "2                    0                0                          0   \n",
      "3                    0                0                          0   \n",
      "4                    0                0                          0   \n",
      "..                 ...              ...                        ...   \n",
      "995                  0                0                          0   \n",
      "996                  0                0                          0   \n",
      "997                  0                0                          0   \n",
      "998                  0                0                          0   \n",
      "999                  0                0                          0   \n",
      "\n",
      "     Country_Western Sahara  Country_Yemen  Country_Zambia  Country_Zimbabwe  \n",
      "0                         0              0               0                 0  \n",
      "1                         0              0               0                 0  \n",
      "2                         0              0               0                 0  \n",
      "3                         0              0               0                 0  \n",
      "4                         0              0               0                 0  \n",
      "..                      ...            ...             ...               ...  \n",
      "995                       0              0               0                 0  \n",
      "996                       0              0               0                 0  \n",
      "997                       0              0               0                 0  \n",
      "998                       0              0               0                 0  \n",
      "999                       0              0               0                 0  \n",
      "\n",
      "[1000 rows x 1212 columns]\n"
     ]
    }
   ],
   "source": [
    "one_hot_encoded_data = pd.get_dummies(ad_data, columns = ['City', 'Country'])\n",
    "print(one_hot_encoded_data)"
   ]
  },
  {
   "cell_type": "markdown",
   "id": "f99b8f7b-20d4-49fa-b31a-dde3d6d01e6c",
   "metadata": {},
   "source": [
    "### Finding the target/dependent variable"
   ]
  },
  {
   "cell_type": "code",
   "execution_count": 10,
   "id": "4a997dff-8113-41b9-b146-ee189b042768",
   "metadata": {},
   "outputs": [],
   "source": [
    "Y = one_hot_encoded_data.iloc[:, 5].values"
   ]
  },
  {
   "cell_type": "code",
   "execution_count": 11,
   "id": "3b80b48c-3867-41b6-9b57-4ac704926f40",
   "metadata": {},
   "outputs": [
    {
     "name": "stdout",
     "output_type": "stream",
     "text": [
      "[0 0 0 0 0 0 0 1 0 0 1 0 1 0 1 1 1 0 1 1 0 0 1 0 1 0 1 1 1 0 0 0 1 1 1 0 1\n",
      " 0 1 1 0 0 0 0 0 1 0 0 1 1 0 0 1 1 1 0 1 1 0 1 0 0 0 0 1 0 1 1 0 1 1 0 1 1\n",
      " 1 0 1 0 1 1 0 0 1 1 0 1 0 1 1 1 1 1 0 1 1 0 1 1 1 0 1 0 0 0 0 0 0 1 1 0 1\n",
      " 1 0 1 0 0 1 1 1 1 0 0 0 1 1 0 1 0 0 0 1 1 1 0 1 1 1 1 0 0 0 1 1 0 0 1 1 1\n",
      " 1 1 0 0 1 0 0 0 1 1 0 1 0 0 0 0 1 1 1 0 1 0 1 0 0 0 1 0 1 0 1 0 1 1 1 0 0\n",
      " 1 1 0 1 1 1 1 1 1 0 1 1 0 0 0 0 0 1 0 0 1 0 0 1 1 0 1 0 1 0 1 1 1 1 1 0 0\n",
      " 1 1 0 1 1 1 0 0 0 1 1 1 1 1 1 0 1 0 1 1 0 0 0 0 1 1 1 1 0 1 0 1 1 0 0 1 0\n",
      " 1 0 1 1 1 0 1 1 0 1 0 1 0 0 0 0 1 0 0 0 0 1 1 1 0 1 0 1 0 1 1 1 0 1 0 0 0\n",
      " 0 0 0 0 0 1 1 1 1 1 0 0 0 1 0 0 1 0 0 1 0 0 0 1 1 0 0 0 0 1 1 0 0 1 0 0 1\n",
      " 0 0 1 0 0 0 0 1 1 0 0 1 0 0 1 0 1 0 0 0 0 1 0 1 1 1 0 1 1 0 1 0 1 0 0 0 0\n",
      " 1 1 0 1 0 0 0 1 1 0 0 1 0 0 1 0 0 1 0 1 0 0 0 0 1 0 1 1 0 0 1 0 1 0 1 0 1\n",
      " 1 1 1 1 0 0 1 0 1 1 0 0 0 1 0 1 1 1 1 1 0 1 0 0 0 1 0 0 1 0 0 1 0 1 0 1 1\n",
      " 1 0 1 0 1 0 1 1 0 0 1 0 1 0 1 0 1 1 0 1 0 1 1 1 1 0 1 0 0 0 1 0 0 1 1 1 0\n",
      " 0 0 1 1 1 0 0 1 0 1 1 0 1 1 0 0 1 0 1 1 0 0 1 1 0 0 1 1 0 1 0 0 1 0 1 0 1\n",
      " 1 1 1 1 0 1 0 0 1 0 1 0 1 1 0 0 0 0 0 0 0 0 0 0 0 1 0 1 0 0 0 0 0 0 1 1 1\n",
      " 0 1 0 0 0 1 1 0 0 1 0 1 0 0 0 1 0 0 1 1 1 1 0 0 0 1 1 1 1 1 0 0 1 0 1 1 1\n",
      " 0 0 1 1 0 0 0 1 1 1 1 0 1 1 0 0 1 1 1 1 0 0 0 1 1 0 1 0 0 0 1 0 0 1 0 1 1\n",
      " 0 0 0 0 1 1 1 1 0 1 0 1 0 0 0 0 1 1 1 0 0 0 0 0 0 0 1 0 0 0 0 1 1 1 1 0 1\n",
      " 0 0 1 1 0 1 0 1 0 0 1 1 0 1 0 1 1 0 1 0 0 0 0 0 0 0 1 1 0 0 1 0 0 0 0 1 1\n",
      " 0 0 0 1 0 1 1 1 0 0 1 0 1 1 0 0 1 0 1 1 0 0 0 0 0 0 0 0 0 0 1 1 0 0 1 1 0\n",
      " 1 0 0 1 1 1 1 1 1 0 1 0 0 0 0 0 1 1 1 1 0 0 1 1 1 1 1 1 1 0 0 0 0 1 1 1 1\n",
      " 0 1 0 1 1 0 0 1 1 0 1 0 1 1 1 0 1 1 0 0 0 0 0 1 1 1 1 1 0 1 1 1 1 1 0 0 0\n",
      " 0 0 1 1 0 0 1 0 1 0 0 0 0 1 1 1 1 1 1 1 0 0 1 1 1 1 1 1 0 0 0 1 1 0 0 1 0\n",
      " 1 1 0 1 1 0 0 1 0 1 0 0 0 0 1 0 0 0 0 1 0 0 0 0 1 1 0 0 0 1 0 0 1 0 1 1 1\n",
      " 0 1 0 1 1 0 0 0 0 1 1 1 1 1 1 0 0 0 1 0 1 0 1 1 1 0 1 1 1 0 0 0 0 1 1 1 1\n",
      " 1 0 0 0 1 0 1 1 1 0 0 1 1 1 0 1 1 1 1 1 0 0 1 1 1 1 1 1 1 0 1 1 0 0 0 1 0\n",
      " 0 0 0 1 1 0 1 1 1 1 1 0 1 1 1 1 0 0 1 0 1 0 0 1 0 1 0 0 1 1 1 0 1 1 1 1 0\n",
      " 1]\n"
     ]
    }
   ],
   "source": [
    "print(Y)"
   ]
  },
  {
   "cell_type": "markdown",
   "id": "e7e7ba61-9a39-4fb4-b029-580cb4e5fded",
   "metadata": {},
   "source": [
    "##### Removing the dependent variable from dataset as it is already stored in Y and it is in the midle of the dataset which disturbs the training process"
   ]
  },
  {
   "cell_type": "code",
   "execution_count": 12,
   "id": "fb4e0801-eae4-431f-a518-749d3fbf136d",
   "metadata": {},
   "outputs": [],
   "source": [
    "one_hot_encoded_data.drop('Clicked on Ad', inplace=True, axis=1)"
   ]
  },
  {
   "cell_type": "markdown",
   "id": "5e82043c-d823-440f-b297-1035b06ce219",
   "metadata": {},
   "source": [
    "##### Features data after performing one hot encoding"
   ]
  },
  {
   "cell_type": "code",
   "execution_count": 13,
   "id": "7f3d3480-1701-4cbb-b6d1-eb1ba861aead",
   "metadata": {},
   "outputs": [
    {
     "name": "stdout",
     "output_type": "stream",
     "text": [
      "     Daily Time Spent on Site  Age  Area Income  Daily Internet Usage  Male  \\\n",
      "0                       68.95   35     61833.90                256.09     0   \n",
      "1                       80.23   31     68441.85                193.77     1   \n",
      "2                       69.47   26     59785.94                236.50     0   \n",
      "3                       74.15   29     54806.18                245.89     1   \n",
      "4                       68.37   35     73889.99                225.58     0   \n",
      "..                        ...  ...          ...                   ...   ...   \n",
      "995                     72.97   30     71384.57                208.58     1   \n",
      "996                     51.30   45     67782.17                134.42     1   \n",
      "997                     51.63   51     42415.72                120.37     1   \n",
      "998                     55.55   19     41920.79                187.95     0   \n",
      "999                     45.01   26     29875.80                178.35     0   \n",
      "\n",
      "     City_Adamsbury  City_Adamside  City_Adamsstad  City_Alanview  \\\n",
      "0                 0              0               0              0   \n",
      "1                 0              0               0              0   \n",
      "2                 0              0               0              0   \n",
      "3                 0              0               0              0   \n",
      "4                 0              0               0              0   \n",
      "..              ...            ...             ...            ...   \n",
      "995               0              0               0              0   \n",
      "996               0              0               0              0   \n",
      "997               0              0               0              0   \n",
      "998               0              0               0              0   \n",
      "999               0              0               0              0   \n",
      "\n",
      "     City_Alexanderfurt  ...  Country_Uruguay  Country_Uzbekistan  \\\n",
      "0                     0  ...                0                   0   \n",
      "1                     0  ...                0                   0   \n",
      "2                     0  ...                0                   0   \n",
      "3                     0  ...                0                   0   \n",
      "4                     0  ...                0                   0   \n",
      "..                  ...  ...              ...                 ...   \n",
      "995                   0  ...                0                   0   \n",
      "996                   0  ...                0                   0   \n",
      "997                   0  ...                0                   0   \n",
      "998                   0  ...                0                   0   \n",
      "999                   0  ...                0                   0   \n",
      "\n",
      "     Country_Vanuatu  Country_Venezuela  Country_Vietnam  \\\n",
      "0                  0                  0                0   \n",
      "1                  0                  0                0   \n",
      "2                  0                  0                0   \n",
      "3                  0                  0                0   \n",
      "4                  0                  0                0   \n",
      "..               ...                ...              ...   \n",
      "995                0                  0                0   \n",
      "996                0                  0                0   \n",
      "997                0                  0                0   \n",
      "998                0                  0                0   \n",
      "999                0                  0                0   \n",
      "\n",
      "     Country_Wallis and Futuna  Country_Western Sahara  Country_Yemen  \\\n",
      "0                            0                       0              0   \n",
      "1                            0                       0              0   \n",
      "2                            0                       0              0   \n",
      "3                            0                       0              0   \n",
      "4                            0                       0              0   \n",
      "..                         ...                     ...            ...   \n",
      "995                          0                       0              0   \n",
      "996                          0                       0              0   \n",
      "997                          0                       0              0   \n",
      "998                          0                       0              0   \n",
      "999                          0                       0              0   \n",
      "\n",
      "     Country_Zambia  Country_Zimbabwe  \n",
      "0                 0                 0  \n",
      "1                 0                 0  \n",
      "2                 0                 0  \n",
      "3                 0                 0  \n",
      "4                 0                 0  \n",
      "..              ...               ...  \n",
      "995               0                 0  \n",
      "996               0                 0  \n",
      "997               0                 0  \n",
      "998               0                 0  \n",
      "999               0                 0  \n",
      "\n",
      "[1000 rows x 1211 columns]\n"
     ]
    }
   ],
   "source": [
    "print(one_hot_encoded_data)"
   ]
  },
  {
   "cell_type": "code",
   "execution_count": 14,
   "id": "34696eaf-8d58-4cb6-8785-e3b6b18b3170",
   "metadata": {},
   "outputs": [],
   "source": [
    "X = one_hot_encoded_data.iloc[:, :].values"
   ]
  },
  {
   "cell_type": "markdown",
   "id": "ff8f4f17-8992-4b36-b4fa-cf8cb4823c9d",
   "metadata": {},
   "source": [
    "#### Splitting the data into training and testing sets"
   ]
  },
  {
   "cell_type": "code",
   "execution_count": 16,
   "id": "d31ce8f5-0056-487f-96c0-c0a014919d22",
   "metadata": {},
   "outputs": [],
   "source": [
    "from sklearn.model_selection import train_test_split\n",
    "X_train, X_test, y_train, y_test = train_test_split(X, Y, test_size = 0.2, random_state = 1)"
   ]
  },
  {
   "cell_type": "markdown",
   "id": "4f7eb579-04d0-4781-83ca-b0205d863b58",
   "metadata": {},
   "source": [
    "#### Data Preperation"
   ]
  },
  {
   "cell_type": "markdown",
   "id": "715472d7-1cbc-489d-b57b-4deece066566",
   "metadata": {},
   "source": [
    "##### Feature scaling the data to ensure that all the features are on the same scale"
   ]
  },
  {
   "cell_type": "code",
   "execution_count": 18,
   "id": "4bccb696-e81f-40c3-b010-4f3f602af474",
   "metadata": {},
   "outputs": [],
   "source": [
    "from sklearn.preprocessing import StandardScaler\n",
    "sc = StandardScaler()\n",
    "X_train[:, :] = sc.fit_transform(X_train[:, :])\n",
    "X_test[:, :] = sc.transform(X_test[:, :])"
   ]
  },
  {
   "cell_type": "markdown",
   "id": "6cdd8b07-c34a-4626-ba30-66b11c9da8ef",
   "metadata": {},
   "source": [
    "#### Data after preprocessing"
   ]
  },
  {
   "cell_type": "code",
   "execution_count": 19,
   "id": "3ce5b214-c738-44ce-8276-69c247db5224",
   "metadata": {},
   "outputs": [
    {
     "name": "stdout",
     "output_type": "stream",
     "text": [
      "[[ 0.81717752 -0.82446236  0.90391811 ... -0.05006262 -0.06135239\n",
      "  -0.07088812]\n",
      " [-1.30623849 -0.93903069  0.61312416 ... -0.05006262 -0.06135239\n",
      "  -0.07088812]\n",
      " [-0.63907569  0.20665263  1.28012459 ... -0.05006262 -0.06135239\n",
      "  -0.07088812]\n",
      " ...\n",
      " [-0.48025717  1.58147262 -2.42822096 ... -0.05006262 -0.06135239\n",
      "  -0.07088812]\n",
      " [-1.51132696  1.00863096 -1.07422552 ... -0.05006262 -0.06135239\n",
      "  -0.07088812]\n",
      " [ 0.07685816  0.32122096  1.59188097 ... -0.05006262 -0.06135239\n",
      "  -0.07088812]]\n"
     ]
    }
   ],
   "source": [
    "print(X_train)"
   ]
  },
  {
   "cell_type": "code",
   "execution_count": 20,
   "id": "7d07603d-1f41-473c-a215-2d6ed1a740f8",
   "metadata": {},
   "outputs": [
    {
     "name": "stdout",
     "output_type": "stream",
     "text": [
      "[[-0.91294383  0.55035763  0.46171784 ... -0.05006262 -0.06135239\n",
      "  -0.07088812]\n",
      " [ 1.08729404 -0.2516207   0.92977273 ... -0.05006262 -0.06135239\n",
      "  -0.07088812]\n",
      " [ 1.00538371 -0.2516207   0.30294236 ... -0.05006262 -0.06135239\n",
      "  -0.07088812]\n",
      " ...\n",
      " [ 0.70087735 -0.02248404  1.20850022 ... -0.05006262 -0.06135239\n",
      "  -0.07088812]\n",
      " [-0.15824326  0.43578929  0.64008855 ... -0.05006262 -0.06135239\n",
      "  -0.07088812]\n",
      " [ 1.21860068 -0.70989403  0.55498198 ... -0.05006262 -0.06135239\n",
      "  -0.07088812]]\n"
     ]
    }
   ],
   "source": [
    "print(X_test)"
   ]
  },
  {
   "cell_type": "markdown",
   "id": "8ce6a611-a978-42b3-a5e1-1d7d9620043c",
   "metadata": {},
   "source": [
    "Features of X - Daily Time Spent on Site, Age, Area Income, City, Country, Daily Internet Usage, Male\n",
    "Target variable - Clicked on Ad\n",
    "\n",
    "By considering the above features, a target variable can be predicted i.e, clicked on ad.\n",
    "It predicts whether the customer clicked on ad or not based on the features considered"
   ]
  },
  {
   "cell_type": "code",
   "execution_count": 21,
   "id": "fec85456-8313-4278-856e-5068a122d60c",
   "metadata": {},
   "outputs": [
    {
     "data": {
      "text/plain": [
       "Index(['Daily Time Spent on Site', 'Age', 'Area Income',\n",
       "       'Daily Internet Usage', 'Male', 'City_Adamsbury', 'City_Adamside',\n",
       "       'City_Adamsstad', 'City_Alanview', 'City_Alexanderfurt',\n",
       "       ...\n",
       "       'Country_Uruguay', 'Country_Uzbekistan', 'Country_Vanuatu',\n",
       "       'Country_Venezuela', 'Country_Vietnam', 'Country_Wallis and Futuna',\n",
       "       'Country_Western Sahara', 'Country_Yemen', 'Country_Zambia',\n",
       "       'Country_Zimbabwe'],\n",
       "      dtype='object', length=1211)"
      ]
     },
     "execution_count": 21,
     "metadata": {},
     "output_type": "execute_result"
    }
   ],
   "source": [
    "one_hot_encoded_data.columns"
   ]
  },
  {
   "cell_type": "code",
   "execution_count": 22,
   "id": "1e50af38-7663-404b-9d13-82d007f0e098",
   "metadata": {},
   "outputs": [
    {
     "name": "stdout",
     "output_type": "stream",
     "text": [
      "[1 0 0 0 0 1 1 1 0 1 1 1 1 0 1 0 0 0 1 0 1 0 0 0 0 1 1 1 1 0 1 0 1 1 1 0 1\n",
      " 1 0 0 0 0 1 0 1 0 0 0 0 1 1 1 0 0 1 0 1 1 0 0 0 1 0 1 1 0 0 1 1 0 1 1 1 0\n",
      " 0 0 1 1 0 1 0 0 1 1 1 1 1 0 1 0 0 1 1 1 0 1 0 0 0 0 1 0 1 1 1 0 0 0 1 1 1\n",
      " 1 1 1 0 0 0 0 0 1 1 0 0 0 0 0 0 1 1 1 0 1 0 0 1 1 1 0 1 0 1 1 1 0 1 0 0 1\n",
      " 0 1 1 1 0 1 1 1 0 0 0 0 1 1 0 0 1 0 0 0 0 1 1 0 1 1 0 0 1 0 0 0 1 0 0 0 1\n",
      " 0 0 1 1 0 0 0 1 1 1 0 0 0 1 0]\n"
     ]
    }
   ],
   "source": [
    "print(y_test)"
   ]
  },
  {
   "cell_type": "markdown",
   "id": "60aec92e-db1b-4a74-8224-1a6d5dd5a6df",
   "metadata": {},
   "source": [
    "###### As the output variable is categorical one, linear regression cannot be performed. Linear Regression is used to predict the continuous value.\n",
    "###### Here, the output is categorical one, logistic regression is used to calculate whether the customer clicked on ad or not"
   ]
  },
  {
   "cell_type": "markdown",
   "id": "63abc95b-5f79-430d-b5c9-9b95cb96a07c",
   "metadata": {},
   "source": [
    "\n",
    "#### Training and fitting a logistic regression model on the training set\n"
   ]
  },
  {
   "cell_type": "markdown",
   "id": "7687d6b1-ee5b-4d0c-b342-88b48a7102b9",
   "metadata": {},
   "source": [
    "### 3.Logistic Regression as the target is categorical"
   ]
  },
  {
   "cell_type": "code",
   "execution_count": 23,
   "id": "122edbcf-72aa-4458-954d-9923251afef8",
   "metadata": {},
   "outputs": [],
   "source": [
    "from sklearn.linear_model import LogisticRegression"
   ]
  },
  {
   "cell_type": "code",
   "execution_count": 32,
   "id": "e4c3b8c2-a151-4c25-960c-77cfaf226697",
   "metadata": {},
   "outputs": [
    {
     "data": {
      "text/plain": [
       "LogisticRegression()"
      ]
     },
     "execution_count": 32,
     "metadata": {},
     "output_type": "execute_result"
    }
   ],
   "source": [
    "logmodel=LogisticRegression()\n",
    "logmodel.fit(X_train,y_train)"
   ]
  },
  {
   "cell_type": "markdown",
   "id": "ead6ef4a-87b0-4cb9-a14a-b3cdd6618e69",
   "metadata": {},
   "source": [
    "### 6. Predicting values for the testing data"
   ]
  },
  {
   "cell_type": "code",
   "execution_count": 25,
   "id": "366e8d31-9e72-451f-aab8-e0dd3c2cb54f",
   "metadata": {},
   "outputs": [],
   "source": [
    "predictions=logmodel.predict(X_test)"
   ]
  },
  {
   "cell_type": "code",
   "execution_count": 26,
   "id": "6168f63f-441c-47c5-9138-368bf9c67465",
   "metadata": {},
   "outputs": [
    {
     "name": "stdout",
     "output_type": "stream",
     "text": [
      "[1 0 0 0 0 1 1 1 0 1 1 1 1 0 1 0 0 0 0 0 0 0 0 0 0 0 1 1 1 0 1 0 1 1 1 0 1\n",
      " 1 0 0 0 0 1 0 1 0 0 0 0 0 1 1 0 0 1 0 1 1 0 0 0 1 0 1 0 0 0 1 1 0 1 1 1 0\n",
      " 0 0 1 1 0 0 0 0 1 1 1 1 1 0 0 0 0 1 0 1 0 1 0 0 0 0 1 0 1 1 1 0 0 0 1 1 1\n",
      " 1 0 1 0 0 0 0 0 1 1 1 0 0 0 0 0 0 1 1 0 1 0 0 1 0 1 0 1 0 1 1 1 0 1 0 0 1\n",
      " 0 1 1 1 0 1 1 1 0 0 0 0 0 1 0 0 1 0 0 0 0 1 1 0 1 1 0 0 1 0 0 0 1 0 0 0 1\n",
      " 0 1 1 1 0 0 0 0 1 1 0 0 0 1 0]\n"
     ]
    }
   ],
   "source": [
    "print(predictions)"
   ]
  },
  {
   "cell_type": "markdown",
   "id": "e4951b15-8b1f-4278-bccf-7c4db839739f",
   "metadata": {},
   "source": [
    "#### Creating a classification report for the model"
   ]
  },
  {
   "cell_type": "code",
   "execution_count": 27,
   "id": "bbf3e229-3881-428f-ae31-e8621185ed3e",
   "metadata": {},
   "outputs": [],
   "source": [
    "from sklearn.metrics import classification_report"
   ]
  },
  {
   "cell_type": "code",
   "execution_count": 28,
   "id": "a20659a3-0169-4c8e-8e6a-d95755878baa",
   "metadata": {},
   "outputs": [
    {
     "name": "stdout",
     "output_type": "stream",
     "text": [
      "              precision    recall  f1-score   support\n",
      "\n",
      "           0       0.89      0.98      0.93       103\n",
      "           1       0.98      0.87      0.92        97\n",
      "\n",
      "    accuracy                           0.93       200\n",
      "   macro avg       0.93      0.92      0.92       200\n",
      "weighted avg       0.93      0.93      0.92       200\n",
      "\n"
     ]
    }
   ],
   "source": [
    "print(classification_report(y_test,predictions))"
   ]
  },
  {
   "cell_type": "markdown",
   "id": "0d2833f8-33c3-4775-8b2c-ead6308722c8",
   "metadata": {},
   "source": [
    "### 4.RESULTS - Accuracy obtained for testing data is 93% which is good and can be increased."
   ]
  },
  {
   "cell_type": "markdown",
   "id": "b410b0d5-eb3e-4662-a363-a3dfb5d3bee1",
   "metadata": {},
   "source": [
    "### 5.Features vs data can be varied to get better results ie, overfitting and underfitting must be balanced."
   ]
  },
  {
   "cell_type": "markdown",
   "id": "2ac7e006-bf96-488b-9944-d031aa6a2da6",
   "metadata": {},
   "source": [
    "### 7. From this project milestone, I have learnt that- If there are n features and a target variable which is a categorical one, \n",
    "###### then using the logistic regression algorithm, a model can be generated by giving the labelled training data to the model. \n",
    "###### The model learns the patterns that are present in the training data and this patterns can be used to predict the values of the testing data.\n"
   ]
  },
  {
   "cell_type": "code",
   "execution_count": null,
   "id": "a9b4c9c3-5838-482d-a415-20656355fb36",
   "metadata": {},
   "outputs": [],
   "source": []
  }
 ],
 "metadata": {
  "kernelspec": {
   "display_name": "Python 3 (ipykernel)",
   "language": "python",
   "name": "python3"
  },
  "language_info": {
   "codemirror_mode": {
    "name": "ipython",
    "version": 3
   },
   "file_extension": ".py",
   "mimetype": "text/x-python",
   "name": "python",
   "nbconvert_exporter": "python",
   "pygments_lexer": "ipython3",
   "version": "3.9.12"
  }
 },
 "nbformat": 4,
 "nbformat_minor": 5
}
