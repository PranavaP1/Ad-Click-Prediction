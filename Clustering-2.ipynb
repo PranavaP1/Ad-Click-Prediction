{
 "cells": [
  {
   "cell_type": "markdown",
   "id": "95f106bf-3be1-436f-a16f-2603abbfd5d0",
   "metadata": {},
   "source": [
    "### Initial Exploration"
   ]
  },
  {
   "cell_type": "code",
   "execution_count": 1,
   "id": "1fe76bf1-1299-48af-9954-065aa503ec30",
   "metadata": {},
   "outputs": [],
   "source": [
    "import pandas as pd\n",
    "import numpy as np\n",
    "import matplotlib.pyplot as plt\n",
    "import seaborn as sns\n",
    "%matplotlib inline"
   ]
  },
  {
   "cell_type": "code",
   "execution_count": 2,
   "id": "74c30080-eb7b-47c0-9600-cd645b6d64da",
   "metadata": {},
   "outputs": [],
   "source": [
    "ad_data=pd.read_csv('advertising.csv')"
   ]
  },
  {
   "cell_type": "code",
   "execution_count": null,
   "id": "116b0e0f-3277-4db2-95a4-ff3945b3f75c",
   "metadata": {},
   "outputs": [],
   "source": []
  },
  {
   "cell_type": "code",
   "execution_count": null,
   "id": "188fd9da-494c-4b7f-a8b0-fc8a037aa06d",
   "metadata": {},
   "outputs": [],
   "source": []
  },
  {
   "cell_type": "code",
   "execution_count": 3,
   "id": "699d9cb9-8da6-408f-a1c3-5d8abc5fd246",
   "metadata": {},
   "outputs": [
    {
     "ename": "ValueError",
     "evalue": "could not convert string to float: 'Cloned 5thgeneration orchestration'",
     "output_type": "error",
     "traceback": [
      "\u001b[0;31m---------------------------------------------------------------------------\u001b[0m",
      "\u001b[0;31mValueError\u001b[0m                                Traceback (most recent call last)",
      "Input \u001b[0;32mIn [3]\u001b[0m, in \u001b[0;36m<cell line: 11>\u001b[0;34m()\u001b[0m\n\u001b[1;32m      8\u001b[0m pca \u001b[38;5;241m=\u001b[39m PCA(\u001b[38;5;241m2\u001b[39m)\n\u001b[1;32m     10\u001b[0m \u001b[38;5;66;03m#Transform the data\u001b[39;00m\n\u001b[0;32m---> 11\u001b[0m df \u001b[38;5;241m=\u001b[39m \u001b[43mpca\u001b[49m\u001b[38;5;241;43m.\u001b[39;49m\u001b[43mfit_transform\u001b[49m\u001b[43m(\u001b[49m\u001b[43mdata\u001b[49m\u001b[43m)\u001b[49m\n\u001b[1;32m     13\u001b[0m df\u001b[38;5;241m.\u001b[39mshape\n",
      "File \u001b[0;32m~/opt/anaconda3/lib/python3.9/site-packages/sklearn/decomposition/_pca.py:407\u001b[0m, in \u001b[0;36mPCA.fit_transform\u001b[0;34m(self, X, y)\u001b[0m\n\u001b[1;32m    385\u001b[0m \u001b[38;5;28;01mdef\u001b[39;00m \u001b[38;5;21mfit_transform\u001b[39m(\u001b[38;5;28mself\u001b[39m, X, y\u001b[38;5;241m=\u001b[39m\u001b[38;5;28;01mNone\u001b[39;00m):\n\u001b[1;32m    386\u001b[0m     \u001b[38;5;124;03m\"\"\"Fit the model with X and apply the dimensionality reduction on X.\u001b[39;00m\n\u001b[1;32m    387\u001b[0m \n\u001b[1;32m    388\u001b[0m \u001b[38;5;124;03m    Parameters\u001b[39;00m\n\u001b[0;32m   (...)\u001b[0m\n\u001b[1;32m    405\u001b[0m \u001b[38;5;124;03m    C-ordered array, use 'np.ascontiguousarray'.\u001b[39;00m\n\u001b[1;32m    406\u001b[0m \u001b[38;5;124;03m    \"\"\"\u001b[39;00m\n\u001b[0;32m--> 407\u001b[0m     U, S, Vt \u001b[38;5;241m=\u001b[39m \u001b[38;5;28;43mself\u001b[39;49m\u001b[38;5;241;43m.\u001b[39;49m\u001b[43m_fit\u001b[49m\u001b[43m(\u001b[49m\u001b[43mX\u001b[49m\u001b[43m)\u001b[49m\n\u001b[1;32m    408\u001b[0m     U \u001b[38;5;241m=\u001b[39m U[:, : \u001b[38;5;28mself\u001b[39m\u001b[38;5;241m.\u001b[39mn_components_]\n\u001b[1;32m    410\u001b[0m     \u001b[38;5;28;01mif\u001b[39;00m \u001b[38;5;28mself\u001b[39m\u001b[38;5;241m.\u001b[39mwhiten:\n\u001b[1;32m    411\u001b[0m         \u001b[38;5;66;03m# X_new = X * V / S * sqrt(n_samples) = U * sqrt(n_samples)\u001b[39;00m\n",
      "File \u001b[0;32m~/opt/anaconda3/lib/python3.9/site-packages/sklearn/decomposition/_pca.py:430\u001b[0m, in \u001b[0;36mPCA._fit\u001b[0;34m(self, X)\u001b[0m\n\u001b[1;32m    424\u001b[0m \u001b[38;5;28;01mif\u001b[39;00m issparse(X):\n\u001b[1;32m    425\u001b[0m     \u001b[38;5;28;01mraise\u001b[39;00m \u001b[38;5;167;01mTypeError\u001b[39;00m(\n\u001b[1;32m    426\u001b[0m         \u001b[38;5;124m\"\u001b[39m\u001b[38;5;124mPCA does not support sparse input. See \u001b[39m\u001b[38;5;124m\"\u001b[39m\n\u001b[1;32m    427\u001b[0m         \u001b[38;5;124m\"\u001b[39m\u001b[38;5;124mTruncatedSVD for a possible alternative.\u001b[39m\u001b[38;5;124m\"\u001b[39m\n\u001b[1;32m    428\u001b[0m     )\n\u001b[0;32m--> 430\u001b[0m X \u001b[38;5;241m=\u001b[39m \u001b[38;5;28;43mself\u001b[39;49m\u001b[38;5;241;43m.\u001b[39;49m\u001b[43m_validate_data\u001b[49m\u001b[43m(\u001b[49m\n\u001b[1;32m    431\u001b[0m \u001b[43m    \u001b[49m\u001b[43mX\u001b[49m\u001b[43m,\u001b[49m\u001b[43m \u001b[49m\u001b[43mdtype\u001b[49m\u001b[38;5;241;43m=\u001b[39;49m\u001b[43m[\u001b[49m\u001b[43mnp\u001b[49m\u001b[38;5;241;43m.\u001b[39;49m\u001b[43mfloat64\u001b[49m\u001b[43m,\u001b[49m\u001b[43m \u001b[49m\u001b[43mnp\u001b[49m\u001b[38;5;241;43m.\u001b[39;49m\u001b[43mfloat32\u001b[49m\u001b[43m]\u001b[49m\u001b[43m,\u001b[49m\u001b[43m \u001b[49m\u001b[43mensure_2d\u001b[49m\u001b[38;5;241;43m=\u001b[39;49m\u001b[38;5;28;43;01mTrue\u001b[39;49;00m\u001b[43m,\u001b[49m\u001b[43m \u001b[49m\u001b[43mcopy\u001b[49m\u001b[38;5;241;43m=\u001b[39;49m\u001b[38;5;28;43mself\u001b[39;49m\u001b[38;5;241;43m.\u001b[39;49m\u001b[43mcopy\u001b[49m\n\u001b[1;32m    432\u001b[0m \u001b[43m\u001b[49m\u001b[43m)\u001b[49m\n\u001b[1;32m    434\u001b[0m \u001b[38;5;66;03m# Handle n_components==None\u001b[39;00m\n\u001b[1;32m    435\u001b[0m \u001b[38;5;28;01mif\u001b[39;00m \u001b[38;5;28mself\u001b[39m\u001b[38;5;241m.\u001b[39mn_components \u001b[38;5;129;01mis\u001b[39;00m \u001b[38;5;28;01mNone\u001b[39;00m:\n",
      "File \u001b[0;32m~/opt/anaconda3/lib/python3.9/site-packages/sklearn/base.py:566\u001b[0m, in \u001b[0;36mBaseEstimator._validate_data\u001b[0;34m(self, X, y, reset, validate_separately, **check_params)\u001b[0m\n\u001b[1;32m    564\u001b[0m     \u001b[38;5;28;01mraise\u001b[39;00m \u001b[38;5;167;01mValueError\u001b[39;00m(\u001b[38;5;124m\"\u001b[39m\u001b[38;5;124mValidation should be done on X, y or both.\u001b[39m\u001b[38;5;124m\"\u001b[39m)\n\u001b[1;32m    565\u001b[0m \u001b[38;5;28;01melif\u001b[39;00m \u001b[38;5;129;01mnot\u001b[39;00m no_val_X \u001b[38;5;129;01mand\u001b[39;00m no_val_y:\n\u001b[0;32m--> 566\u001b[0m     X \u001b[38;5;241m=\u001b[39m \u001b[43mcheck_array\u001b[49m\u001b[43m(\u001b[49m\u001b[43mX\u001b[49m\u001b[43m,\u001b[49m\u001b[43m \u001b[49m\u001b[38;5;241;43m*\u001b[39;49m\u001b[38;5;241;43m*\u001b[39;49m\u001b[43mcheck_params\u001b[49m\u001b[43m)\u001b[49m\n\u001b[1;32m    567\u001b[0m     out \u001b[38;5;241m=\u001b[39m X\n\u001b[1;32m    568\u001b[0m \u001b[38;5;28;01melif\u001b[39;00m no_val_X \u001b[38;5;129;01mand\u001b[39;00m \u001b[38;5;129;01mnot\u001b[39;00m no_val_y:\n",
      "File \u001b[0;32m~/opt/anaconda3/lib/python3.9/site-packages/sklearn/utils/validation.py:746\u001b[0m, in \u001b[0;36mcheck_array\u001b[0;34m(array, accept_sparse, accept_large_sparse, dtype, order, copy, force_all_finite, ensure_2d, allow_nd, ensure_min_samples, ensure_min_features, estimator)\u001b[0m\n\u001b[1;32m    744\u001b[0m         array \u001b[38;5;241m=\u001b[39m array\u001b[38;5;241m.\u001b[39mastype(dtype, casting\u001b[38;5;241m=\u001b[39m\u001b[38;5;124m\"\u001b[39m\u001b[38;5;124munsafe\u001b[39m\u001b[38;5;124m\"\u001b[39m, copy\u001b[38;5;241m=\u001b[39m\u001b[38;5;28;01mFalse\u001b[39;00m)\n\u001b[1;32m    745\u001b[0m     \u001b[38;5;28;01melse\u001b[39;00m:\n\u001b[0;32m--> 746\u001b[0m         array \u001b[38;5;241m=\u001b[39m \u001b[43mnp\u001b[49m\u001b[38;5;241;43m.\u001b[39;49m\u001b[43masarray\u001b[49m\u001b[43m(\u001b[49m\u001b[43marray\u001b[49m\u001b[43m,\u001b[49m\u001b[43m \u001b[49m\u001b[43morder\u001b[49m\u001b[38;5;241;43m=\u001b[39;49m\u001b[43morder\u001b[49m\u001b[43m,\u001b[49m\u001b[43m \u001b[49m\u001b[43mdtype\u001b[49m\u001b[38;5;241;43m=\u001b[39;49m\u001b[43mdtype\u001b[49m\u001b[43m)\u001b[49m\n\u001b[1;32m    747\u001b[0m \u001b[38;5;28;01mexcept\u001b[39;00m ComplexWarning \u001b[38;5;28;01mas\u001b[39;00m complex_warning:\n\u001b[1;32m    748\u001b[0m     \u001b[38;5;28;01mraise\u001b[39;00m \u001b[38;5;167;01mValueError\u001b[39;00m(\n\u001b[1;32m    749\u001b[0m         \u001b[38;5;124m\"\u001b[39m\u001b[38;5;124mComplex data not supported\u001b[39m\u001b[38;5;130;01m\\n\u001b[39;00m\u001b[38;5;132;01m{}\u001b[39;00m\u001b[38;5;130;01m\\n\u001b[39;00m\u001b[38;5;124m\"\u001b[39m\u001b[38;5;241m.\u001b[39mformat(array)\n\u001b[1;32m    750\u001b[0m     ) \u001b[38;5;28;01mfrom\u001b[39;00m \u001b[38;5;21;01mcomplex_warning\u001b[39;00m\n",
      "File \u001b[0;32m~/opt/anaconda3/lib/python3.9/site-packages/pandas/core/generic.py:2064\u001b[0m, in \u001b[0;36mNDFrame.__array__\u001b[0;34m(self, dtype)\u001b[0m\n\u001b[1;32m   2063\u001b[0m \u001b[38;5;28;01mdef\u001b[39;00m \u001b[38;5;21m__array__\u001b[39m(\u001b[38;5;28mself\u001b[39m, dtype: npt\u001b[38;5;241m.\u001b[39mDTypeLike \u001b[38;5;241m|\u001b[39m \u001b[38;5;28;01mNone\u001b[39;00m \u001b[38;5;241m=\u001b[39m \u001b[38;5;28;01mNone\u001b[39;00m) \u001b[38;5;241m-\u001b[39m\u001b[38;5;241m>\u001b[39m np\u001b[38;5;241m.\u001b[39mndarray:\n\u001b[0;32m-> 2064\u001b[0m     \u001b[38;5;28;01mreturn\u001b[39;00m \u001b[43mnp\u001b[49m\u001b[38;5;241;43m.\u001b[39;49m\u001b[43masarray\u001b[49m\u001b[43m(\u001b[49m\u001b[38;5;28;43mself\u001b[39;49m\u001b[38;5;241;43m.\u001b[39;49m\u001b[43m_values\u001b[49m\u001b[43m,\u001b[49m\u001b[43m \u001b[49m\u001b[43mdtype\u001b[49m\u001b[38;5;241;43m=\u001b[39;49m\u001b[43mdtype\u001b[49m\u001b[43m)\u001b[49m\n",
      "\u001b[0;31mValueError\u001b[0m: could not convert string to float: 'Cloned 5thgeneration orchestration'"
     ]
    }
   ],
   "source": [
    "from sklearn.datasets import load_digits\n",
    "from sklearn.decomposition import PCA\n",
    "from sklearn.cluster import KMeans\n",
    "import numpy as np\n",
    " \n",
    "#Load Data\n",
    "data = ad_data\n",
    "pca = PCA(2)\n",
    " \n",
    "#Transform the data\n",
    "df = pca.fit_transform(data)\n",
    " \n",
    "df.shape"
   ]
  },
  {
   "cell_type": "code",
   "execution_count": null,
   "id": "86e6ffec-15d0-425c-8322-a23b62bc4aaf",
   "metadata": {},
   "outputs": [],
   "source": []
  },
  {
   "cell_type": "code",
   "execution_count": null,
   "id": "9c03daa4-ef3a-4143-8124-f9e98980a416",
   "metadata": {},
   "outputs": [],
   "source": []
  },
  {
   "cell_type": "code",
   "execution_count": null,
   "id": "e3cb7d17-0169-4f06-bdea-2ff626f5d256",
   "metadata": {},
   "outputs": [],
   "source": []
  },
  {
   "cell_type": "code",
   "execution_count": null,
   "id": "43a443d9-8441-49be-ae0d-a3af0700e3a4",
   "metadata": {},
   "outputs": [],
   "source": []
  },
  {
   "cell_type": "code",
   "execution_count": null,
   "id": "124c1983-cc20-41b1-8847-7110e91c722f",
   "metadata": {},
   "outputs": [],
   "source": []
  },
  {
   "cell_type": "code",
   "execution_count": null,
   "id": "8fe0eac2-7975-4853-bbd2-2bc5bbfa8c90",
   "metadata": {},
   "outputs": [],
   "source": []
  },
  {
   "cell_type": "code",
   "execution_count": null,
   "id": "a7fcf98a-2eec-4ff6-be36-e58e119c59c5",
   "metadata": {},
   "outputs": [],
   "source": []
  },
  {
   "cell_type": "code",
   "execution_count": null,
   "id": "9bcb3edd-033e-4e7d-a7a5-c8488b28e735",
   "metadata": {},
   "outputs": [],
   "source": []
  },
  {
   "cell_type": "code",
   "execution_count": null,
   "id": "4abba765-5ce2-4c59-a118-f0c26c752b4a",
   "metadata": {},
   "outputs": [],
   "source": []
  },
  {
   "cell_type": "code",
   "execution_count": null,
   "id": "e4a282ab-6bd7-495b-9376-9df9a1324fb1",
   "metadata": {},
   "outputs": [],
   "source": []
  },
  {
   "cell_type": "code",
   "execution_count": null,
   "id": "aa8cb264-da83-4429-b89d-2b5836aade63",
   "metadata": {},
   "outputs": [],
   "source": []
  },
  {
   "cell_type": "code",
   "execution_count": null,
   "id": "99430ff2-6bdd-446c-89d1-6708bbb1c7e9",
   "metadata": {},
   "outputs": [],
   "source": []
  },
  {
   "cell_type": "code",
   "execution_count": null,
   "id": "4289e404-3bb5-411b-97a6-da2867913f62",
   "metadata": {},
   "outputs": [],
   "source": []
  },
  {
   "cell_type": "code",
   "execution_count": null,
   "id": "e7b4967f-d13f-4bf4-9703-291bf9cc255c",
   "metadata": {},
   "outputs": [],
   "source": []
  },
  {
   "cell_type": "code",
   "execution_count": null,
   "id": "8de2f80e-785c-4bdb-ae3b-36490f81325a",
   "metadata": {},
   "outputs": [],
   "source": []
  },
  {
   "cell_type": "code",
   "execution_count": null,
   "id": "e2caa386-b9c4-434b-93b6-d97a043ae664",
   "metadata": {},
   "outputs": [],
   "source": []
  },
  {
   "cell_type": "code",
   "execution_count": null,
   "id": "d878bf7a-58b7-4945-8ae8-b54bdaa5b775",
   "metadata": {},
   "outputs": [],
   "source": []
  },
  {
   "cell_type": "code",
   "execution_count": null,
   "id": "ca63f095-b785-41a4-8d93-d9db11ef786c",
   "metadata": {},
   "outputs": [],
   "source": []
  },
  {
   "cell_type": "code",
   "execution_count": null,
   "id": "16b532cf-0c7a-486c-8980-320becddf1d9",
   "metadata": {},
   "outputs": [],
   "source": []
  },
  {
   "cell_type": "code",
   "execution_count": null,
   "id": "9b853512-f8ff-4842-ba40-21b13f412e02",
   "metadata": {},
   "outputs": [],
   "source": []
  },
  {
   "cell_type": "code",
   "execution_count": null,
   "id": "17fa6db0-3b1b-44bf-a2ed-fb0878a903c7",
   "metadata": {},
   "outputs": [],
   "source": []
  },
  {
   "cell_type": "code",
   "execution_count": null,
   "id": "95ab54e8-fef9-4968-aa8c-97b7df7d7921",
   "metadata": {},
   "outputs": [],
   "source": []
  },
  {
   "cell_type": "code",
   "execution_count": null,
   "id": "5e2eb985-0aa8-4399-9e41-574d32b5f7be",
   "metadata": {},
   "outputs": [],
   "source": []
  },
  {
   "cell_type": "code",
   "execution_count": null,
   "id": "0633b5fc-2d87-4a06-bf41-bffa16da0a52",
   "metadata": {},
   "outputs": [],
   "source": []
  },
  {
   "cell_type": "code",
   "execution_count": null,
   "id": "4c8fd6f6-1952-46e4-abf9-9766c2b7b1d8",
   "metadata": {},
   "outputs": [],
   "source": []
  },
  {
   "cell_type": "code",
   "execution_count": 17,
   "id": "199e60ea-4a76-49f4-8d86-64e852a367cf",
   "metadata": {},
   "outputs": [],
   "source": [
    "ad_data.drop('Ad Topic Line', inplace=True, axis=1)"
   ]
  },
  {
   "cell_type": "code",
   "execution_count": 18,
   "id": "34b1f72c-8f7f-4449-b130-4c78bc314739",
   "metadata": {},
   "outputs": [],
   "source": [
    "ad_data.drop('Timestamp', inplace=True, axis=1)"
   ]
  },
  {
   "cell_type": "code",
   "execution_count": 19,
   "id": "bb5cdfd2-22aa-4eee-bb03-5ff2bd507469",
   "metadata": {},
   "outputs": [],
   "source": [
    "X = ad_data.iloc[:, :-1].values\n",
    "Y = ad_data.iloc[:, -1].values"
   ]
  },
  {
   "cell_type": "code",
   "execution_count": 20,
   "id": "15de9c9f-80e2-49af-9f3e-bc77bc2fbdbd",
   "metadata": {},
   "outputs": [
    {
     "name": "stdout",
     "output_type": "stream",
     "text": [
      "     Daily Time Spent on Site  Age  Area Income  Daily Internet Usage  Male  \\\n",
      "0                       68.95   35     61833.90                256.09     0   \n",
      "1                       80.23   31     68441.85                193.77     1   \n",
      "2                       69.47   26     59785.94                236.50     0   \n",
      "3                       74.15   29     54806.18                245.89     1   \n",
      "4                       68.37   35     73889.99                225.58     0   \n",
      "..                        ...  ...          ...                   ...   ...   \n",
      "995                     72.97   30     71384.57                208.58     1   \n",
      "996                     51.30   45     67782.17                134.42     1   \n",
      "997                     51.63   51     42415.72                120.37     1   \n",
      "998                     55.55   19     41920.79                187.95     0   \n",
      "999                     45.01   26     29875.80                178.35     0   \n",
      "\n",
      "     Clicked on Ad  City_Adamsbury  City_Adamside  City_Adamsstad  \\\n",
      "0                0               0              0               0   \n",
      "1                0               0              0               0   \n",
      "2                0               0              0               0   \n",
      "3                0               0              0               0   \n",
      "4                0               0              0               0   \n",
      "..             ...             ...            ...             ...   \n",
      "995              1               0              0               0   \n",
      "996              1               0              0               0   \n",
      "997              1               0              0               0   \n",
      "998              0               0              0               0   \n",
      "999              1               0              0               0   \n",
      "\n",
      "     City_Alanview  ...  Country_Uruguay  Country_Uzbekistan  Country_Vanuatu  \\\n",
      "0                0  ...                0                   0                0   \n",
      "1                0  ...                0                   0                0   \n",
      "2                0  ...                0                   0                0   \n",
      "3                0  ...                0                   0                0   \n",
      "4                0  ...                0                   0                0   \n",
      "..             ...  ...              ...                 ...              ...   \n",
      "995              0  ...                0                   0                0   \n",
      "996              0  ...                0                   0                0   \n",
      "997              0  ...                0                   0                0   \n",
      "998              0  ...                0                   0                0   \n",
      "999              0  ...                0                   0                0   \n",
      "\n",
      "     Country_Venezuela  Country_Vietnam  Country_Wallis and Futuna  \\\n",
      "0                    0                0                          0   \n",
      "1                    0                0                          0   \n",
      "2                    0                0                          0   \n",
      "3                    0                0                          0   \n",
      "4                    0                0                          0   \n",
      "..                 ...              ...                        ...   \n",
      "995                  0                0                          0   \n",
      "996                  0                0                          0   \n",
      "997                  0                0                          0   \n",
      "998                  0                0                          0   \n",
      "999                  0                0                          0   \n",
      "\n",
      "     Country_Western Sahara  Country_Yemen  Country_Zambia  Country_Zimbabwe  \n",
      "0                         0              0               0                 0  \n",
      "1                         0              0               0                 0  \n",
      "2                         0              0               0                 0  \n",
      "3                         0              0               0                 0  \n",
      "4                         0              0               0                 0  \n",
      "..                      ...            ...             ...               ...  \n",
      "995                       0              0               0                 0  \n",
      "996                       0              0               0                 0  \n",
      "997                       0              0               0                 0  \n",
      "998                       0              0               0                 0  \n",
      "999                       0              0               0                 0  \n",
      "\n",
      "[1000 rows x 1212 columns]\n"
     ]
    }
   ],
   "source": [
    "one_hot_encoded_data = pd.get_dummies(ad_data, columns = ['City', 'Country'])\n",
    "print(one_hot_encoded_data)"
   ]
  },
  {
   "cell_type": "code",
   "execution_count": 21,
   "id": "30a5273c-e764-4b15-a435-019c62986516",
   "metadata": {},
   "outputs": [],
   "source": [
    "Y = one_hot_encoded_data.iloc[:, 5].values"
   ]
  },
  {
   "cell_type": "code",
   "execution_count": 22,
   "id": "6c261e90-b848-450e-9a4b-59fc3069a01a",
   "metadata": {},
   "outputs": [],
   "source": [
    "one_hot_encoded_data.drop('Clicked on Ad', inplace=True, axis=1)"
   ]
  },
  {
   "cell_type": "code",
   "execution_count": 23,
   "id": "89ddf27b-84e6-4d88-bc28-f60067258a00",
   "metadata": {},
   "outputs": [],
   "source": [
    "X = one_hot_encoded_data.iloc[:, :].values"
   ]
  },
  {
   "cell_type": "code",
   "execution_count": 24,
   "id": "be60a1ff-db09-42a5-9b79-771f42eb1c43",
   "metadata": {},
   "outputs": [],
   "source": [
    "from sklearn.model_selection import train_test_split\n",
    "X_train, X_test, y_train, y_test = train_test_split(X, Y, test_size = 0.2, random_state = 1)"
   ]
  },
  {
   "cell_type": "code",
   "execution_count": 25,
   "id": "825b9534-a860-495c-9652-5284b27ae6ff",
   "metadata": {},
   "outputs": [],
   "source": [
    "from sklearn.preprocessing import StandardScaler\n",
    "sc = StandardScaler()\n",
    "X_train[:, :] = sc.fit_transform(X_train[:, :])\n",
    "X_test[:, :] = sc.transform(X_test[:, :])"
   ]
  },
  {
   "cell_type": "markdown",
   "id": "b47dbfdc-cfc3-440c-92f7-7104380d4bdc",
   "metadata": {},
   "source": [
    "### K means using elbow method"
   ]
  },
  {
   "cell_type": "code",
   "execution_count": 26,
   "id": "542bad9d-e0de-4302-a5a0-22fba7b89f91",
   "metadata": {},
   "outputs": [
    {
     "data": {
      "image/png": "[encoded data removed]",
      "text/plain": [
       "<Figure size 432x288 with 1 Axes>"
      ]
     },
     "metadata": {
      "needs_background": "light"
     },
     "output_type": "display_data"
    }
   ],
   "source": [
    "from sklearn.cluster import KMeans\n",
    "wcss = []\n",
    "for i in range(1, 11):\n",
    "    kmeans = KMeans(n_clusters = i, init = 'k-means++', random_state = 42)\n",
    "    kmeans.fit(X)\n",
    "    wcss.append(kmeans.inertia_)\n",
    "plt.plot(range(1, 11), wcss)\n",
    "plt.title('The Elbow Method')\n",
    "plt.xlabel('Number of clusters')\n",
    "plt.ylabel('WCSS')\n",
    "plt.show()"
   ]
  },
  {
   "cell_type": "code",
   "execution_count": 27,
   "id": "59e0dd4d-cdcc-42f8-a895-136375b20db4",
   "metadata": {},
   "outputs": [
    {
     "name": "stdout",
     "output_type": "stream",
     "text": [
      "[4 0 4 2 0 4 2 3 0 2 2 4 2 2 3 2 3 0 3 3 4 4 3 4 0 4 1 4 3 2 2 2 3 3 2 4 4\n",
      " 0 4 3 4 4 0 4 4 2 2 0 2 2 4 4 2 4 4 0 0 2 4 3 2 4 0 4 0 0 2 2 4 3 4 0 0 1\n",
      " 4 4 4 2 3 2 4 0 4 3 0 2 0 4 1 1 0 4 4 4 3 2 3 4 2 0 3 2 4 2 4 0 2 0 3 0 4\n",
      " 4 4 1 0 4 0 4 3 2 4 4 4 1 0 4 4 4 0 0 3 2 0 0 2 3 1 1 4 0 4 2 0 4 0 2 4 2\n",
      " 0 4 0 0 1 0 4 4 4 4 4 0 0 4 4 4 2 2 3 2 1 4 2 0 0 4 0 0 1 4 1 4 3 1 1 4 2\n",
      " 1 1 4 1 3 1 1 1 2 2 2 4 4 0 0 0 2 3 0 0 1 0 4 1 1 4 0 2 0 0 1 1 1 4 3 2 0\n",
      " 0 0 4 2 1 2 0 4 0 3 0 2 4 1 4 0 4 0 3 4 4 4 4 1 4 2 1 3 0 4 4 0 4 4 4 4 4\n",
      " 1 0 2 0 2 2 4 4 0 2 4 4 0 2 0 4 3 4 2 2 4 3 3 2 0 2 2 2 0 0 0 0 4 0 4 0 0\n",
      " 0 0 0 4 2 0 4 4 1 4 4 4 4 3 0 0 1 4 4 2 2 2 0 1 0 2 2 0 2 3 1 0 0 4 4 0 0\n",
      " 4 0 4 4 4 0 4 4 2 2 4 2 1 1 4 0 2 4 4 4 0 1 4 3 2 1 0 4 4 0 0 0 4 0 1 0 2\n",
      " 1 1 4 4 4 4 2 3 4 4 4 2 0 2 3 0 0 3 0 3 0 0 4 0 3 2 3 0 0 0 4 4 3 2 2 2 0\n",
      " 1 2 2 3 0 1 1 4 1 4 0 4 0 2 4 4 3 4 0 0 4 4 2 1 2 3 4 0 0 1 4 1 2 0 4 2 2\n",
      " 1 2 4 0 2 2 4 1 4 2 3 0 2 2 0 2 3 2 0 1 4 0 3 1 3 4 0 0 2 2 3 0 2 2 4 1 4\n",
      " 0 0 1 2 4 0 0 1 2 1 3 0 2 1 0 4 1 0 0 4 2 4 2 1 0 4 4 2 4 3 4 4 2 2 4 1 2\n",
      " 1 2 0 2 0 0 4 0 4 4 3 1 4 1 2 2 0 0 4 0 2 0 0 4 0 1 0 2 4 4 4 0 0 4 3 2 2\n",
      " 0 2 4 4 4 1 1 0 0 4 4 2 2 0 0 3 0 4 1 2 2 2 4 4 0 1 3 2 0 0 1 4 1 4 2 4 4\n",
      " 4 2 0 0 4 4 0 4 2 1 3 4 4 3 0 0 4 4 2 2 1 0 0 2 1 4 2 4 2 2 2 2 4 2 2 4 2\n",
      " 2 0 2 0 2 4 2 2 2 0 1 3 3 0 1 2 1 1 2 0 2 0 4 2 2 4 3 4 1 0 4 0 2 1 3 0 3\n",
      " 4 4 3 0 4 4 1 4 0 0 2 0 2 3 4 2 2 0 1 4 4 0 0 4 4 2 3 1 0 0 2 2 2 4 1 4 2\n",
      " 0 0 4 3 0 0 1 2 0 4 2 2 4 2 4 0 4 4 4 0 0 2 2 4 4 2 4 2 0 0 1 4 2 4 1 0 4\n",
      " 4 0 0 2 2 4 4 1 1 0 4 4 0 0 0 0 4 4 1 1 0 0 2 3 1 2 4 1 3 2 0 2 4 4 2 3 0\n",
      " 0 3 0 0 3 4 4 2 2 2 0 4 2 1 1 0 2 1 0 4 0 0 2 4 1 3 1 3 4 0 1 3 3 2 2 4 0\n",
      " 2 0 2 2 0 0 2 4 2 0 0 0 4 2 2 4 2 2 2 2 0 4 2 4 1 2 4 1 2 0 2 4 3 4 2 2 2\n",
      " 2 1 2 1 4 4 4 2 2 2 0 2 0 4 1 4 2 4 0 4 2 0 4 0 3 2 0 2 4 3 4 2 0 0 1 1 4\n",
      " 0 2 4 2 0 2 0 1 4 2 1 2 2 3 2 4 2 2 2 4 3 2 3 2 1 4 2 1 4 4 0 0 2 4 2 2 0\n",
      " 1 4 1 0 1 4 1 4 2 2 0 1 0 1 1 1 0 1 2 1 4 0 2 0 0 0 1 3 4 4 1 4 4 4 4 1 4\n",
      " 2 0 4 2 2 0 1 0 2 1 3 4 1 2 2 2 0 4 3 1 0 2 4 4 4 1 2 2 1 1 0 0 4 0 0 1 1\n",
      " 3]\n"
     ]
    }
   ],
   "source": [
    "kmeans = KMeans(n_clusters = 5, init = 'k-means++', random_state = 42)\n",
    "y_kmeans = kmeans.fit_predict(X)\n",
    "print(y_kmeans)"
   ]
  },
  {
   "cell_type": "code",
   "execution_count": 28,
   "id": "409497ed-b30b-4c01-92fd-3eab1d252667",
   "metadata": {},
   "outputs": [
    {
     "data": {
      "image/png": "[encoded data removed]",
      "text/plain": [
       "<Figure size 432x288 with 1 Axes>"
      ]
     },
     "metadata": {
      "needs_background": "light"
     },
     "output_type": "display_data"
    }
   ],
   "source": [
    "plt.scatter(X[y_kmeans == 0, 0], X[y_kmeans == 0, 1], s = 100, c = 'red', label = 'Cluster 1')\n",
    "plt.scatter(X[y_kmeans == 1, 0], X[y_kmeans == 1, 1], s = 100, c = 'blue', label = 'Cluster 2')\n",
    "plt.scatter(X[y_kmeans == 2, 0], X[y_kmeans == 2, 1], s = 100, c = 'green', label = 'Cluster 3')\n",
    "plt.scatter(X[y_kmeans == 3, 0], X[y_kmeans == 3, 1], s = 100, c = 'cyan', label = 'Cluster 4')\n",
    "plt.scatter(X[y_kmeans == 4, 0], X[y_kmeans == 4, 1], s = 100, c = 'magenta', label = 'Cluster 5')\n",
    "plt.scatter(kmeans.cluster_centers_[:, 0], kmeans.cluster_centers_[:, 1], s = 300, c = 'yellow', label = 'Centroids')\n",
    "plt.title('Clusters of ads')\n",
    "plt.ylabel('ads')\n",
    "plt.legend()\n",
    "plt.show()"
   ]
  },
  {
   "cell_type": "code",
   "execution_count": 29,
   "id": "fe5b8f9a-8b0b-4e98-8eec-e4b9e6b763a4",
   "metadata": {},
   "outputs": [
    {
     "name": "stdout",
     "output_type": "stream",
     "text": [
      "The centroids are  [[ 6.89726984e+01  3.55317460e+01  7.01222288e+04 ...  3.96825397e-03\n",
      "   3.96825397e-03  3.96825397e-03]\n",
      " [ 5.60542424e+01  3.90227273e+01  4.00278858e+04 ... -1.30104261e-18\n",
      "   1.51515152e-02 -2.60208521e-18]\n",
      " [ 6.30547934e+01  3.57561983e+01  5.08141236e+04 ... -1.73472348e-18\n",
      "  -2.60208521e-18  1.23966942e-02]\n",
      " [ 5.58969767e+01  4.03953488e+01  2.67473302e+04 ...  1.16279070e-02\n",
      "  -1.73472348e-18  1.16279070e-02]\n",
      " [ 6.99775000e+01  3.39479167e+01  6.05841291e+04 ...  3.47222222e-03\n",
      "   3.47222222e-03  3.47222222e-03]]\n",
      "Assignments are: \n",
      "[4 0 4 2 0 4 2 3 0 2 2 4 2 2 3 2 3 0 3 3 4 4 3 4 0 4 1 4 3 2 2 2 3 3 2 4 4\n",
      " 0 4 3 4 4 0 4 4 2 2 0 2 2 4 4 2 4 4 0 0 2 4 3 2 4 0 4 0 0 2 2 4 3 4 0 0 1\n",
      " 4 4 4 2 3 2 4 0 4 3 0 2 0 4 1 1 0 4 4 4 3 2 3 4 2 0 3 2 4 2 4 0 2 0 3 0 4\n",
      " 4 4 1 0 4 0 4 3 2 4 4 4 1 0 4 4 4 0 0 3 2 0 0 2 3 1 1 4 0 4 2 0 4 0 2 4 2\n",
      " 0 4 0 0 1 0 4 4 4 4 4 0 0 4 4 4 2 2 3 2 1 4 2 0 0 4 0 0 1 4 1 4 3 1 1 4 2\n",
      " 1 1 4 1 3 1 1 1 2 2 2 4 4 0 0 0 2 3 0 0 1 0 4 1 1 4 0 2 0 0 1 1 1 4 3 2 0\n",
      " 0 0 4 2 1 2 0 4 0 3 0 2 4 1 4 0 4 0 3 4 4 4 4 1 4 2 1 3 0 4 4 0 4 4 4 4 4\n",
      " 1 0 2 0 2 2 4 4 0 2 4 4 0 2 0 4 3 4 2 2 4 3 3 2 0 2 2 2 0 0 0 0 4 0 4 0 0\n",
      " 0 0 0 4 2 0 4 4 1 4 4 4 4 3 0 0 1 4 4 2 2 2 0 1 0 2 2 0 2 3 1 0 0 4 4 0 0\n",
      " 4 0 4 4 4 0 4 4 2 2 4 2 1 1 4 0 2 4 4 4 0 1 4 3 2 1 0 4 4 0 0 0 4 0 1 0 2\n",
      " 1 1 4 4 4 4 2 3 4 4 4 2 0 2 3 0 0 3 0 3 0 0 4 0 3 2 3 0 0 0 4 4 3 2 2 2 0\n",
      " 1 2 2 3 0 1 1 4 1 4 0 4 0 2 4 4 3 4 0 0 4 4 2 1 2 3 4 0 0 1 4 1 2 0 4 2 2\n",
      " 1 2 4 0 2 2 4 1 4 2 3 0 2 2 0 2 3 2 0 1 4 0 3 1 3 4 0 0 2 2 3 0 2 2 4 1 4\n",
      " 0 0 1 2 4 0 0 1 2 1 3 0 2 1 0 4 1 0 0 4 2 4 2 1 0 4 4 2 4 3 4 4 2 2 4 1 2\n",
      " 1 2 0 2 0 0 4 0 4 4 3 1 4 1 2 2 0 0 4 0 2 0 0 4 0 1 0 2 4 4 4 0 0 4 3 2 2\n",
      " 0 2 4 4 4 1 1 0 0 4 4 2 2 0 0 3 0 4 1 2 2 2 4 4 0 1 3 2 0 0 1 4 1 4 2 4 4\n",
      " 4 2 0 0 4 4 0 4 2 1 3 4 4 3 0 0 4 4 2 2 1 0 0 2 1 4 2 4 2 2 2 2 4 2 2 4 2\n",
      " 2 0 2 0 2 4 2 2 2 0 1 3 3 0 1 2 1 1 2 0 2 0 4 2 2 4 3 4 1 0 4 0 2 1 3 0 3\n",
      " 4 4 3 0 4 4 1 4 0 0 2 0 2 3 4 2 2 0 1 4 4 0 0 4 4 2 3 1 0 0 2 2 2 4 1 4 2\n",
      " 0 0 4 3 0 0 1 2 0 4 2 2 4 2 4 0 4 4 4 0 0 2 2 4 4 2 4 2 0 0 1 4 2 4 1 0 4\n",
      " 4 0 0 2 2 4 4 1 1 0 4 4 0 0 0 0 4 4 1 1 0 0 2 3 1 2 4 1 3 2 0 2 4 4 2 3 0\n",
      " 0 3 0 0 3 4 4 2 2 2 0 4 2 1 1 0 2 1 0 4 0 0 2 4 1 3 1 3 4 0 1 3 3 2 2 4 0\n",
      " 2 0 2 2 0 0 2 4 2 0 0 0 4 2 2 4 2 2 2 2 0 4 2 4 1 2 4 1 2 0 2 4 3 4 2 2 2\n",
      " 2 1 2 1 4 4 4 2 2 2 0 2 0 4 1 4 2 4 0 4 2 0 4 0 3 2 0 2 4 3 4 2 0 0 1 1 4\n",
      " 0 2 4 2 0 2 0 1 4 2 1 2 2 3 2 4 2 2 2 4 3 2 3 2 1 4 2 1 4 4 0 0 2 4 2 2 0\n",
      " 1 4 1 0 1 4 1 4 2 2 0 1 0 1 1 1 0 1 2 1 4 0 2 0 0 0 1 3 4 4 1 4 4 4 4 1 4\n",
      " 2 0 4 2 2 0 1 0 2 1 3 4 1 2 2 2 0 4 3 1 0 2 4 4 4 1 2 2 1 1 0 0 4 0 0 1 1\n",
      " 3]\n"
     ]
    }
   ],
   "source": [
    "print(\"The centroids are \", kmeans.cluster_centers_)\n",
    "\n",
    "print(\"Assignments are: \")\n",
    "print(kmeans.labels_)"
   ]
  },
  {
   "cell_type": "markdown",
   "id": "d2c84fa7-f862-47ae-95ac-d8dff554f43f",
   "metadata": {},
   "source": [
    "### Dimensional analysis"
   ]
  },
  {
   "cell_type": "code",
   "execution_count": 30,
   "id": "2b14150c-28df-449b-9b4e-ff95a187869e",
   "metadata": {},
   "outputs": [
    {
     "ename": "LinAlgError",
     "evalue": "SVD did not converge",
     "output_type": "error",
     "traceback": [
      "\u001b[0;31m---------------------------------------------------------------------------\u001b[0m",
      "\u001b[0;31mLinAlgError\u001b[0m                               Traceback (most recent call last)",
      "Input \u001b[0;32mIn [30]\u001b[0m, in \u001b[0;36m<cell line: 3>\u001b[0;34m()\u001b[0m\n\u001b[1;32m      1\u001b[0m \u001b[38;5;28;01mfrom\u001b[39;00m \u001b[38;5;21;01msklearn\u001b[39;00m\u001b[38;5;21;01m.\u001b[39;00m\u001b[38;5;21;01mdiscriminant_analysis\u001b[39;00m \u001b[38;5;28;01mimport\u001b[39;00m LinearDiscriminantAnalysis \u001b[38;5;28;01mas\u001b[39;00m LDA\n\u001b[1;32m      2\u001b[0m lda \u001b[38;5;241m=\u001b[39m LDA(n_components \u001b[38;5;241m=\u001b[39m \u001b[38;5;241m1\u001b[39m)\n\u001b[0;32m----> 3\u001b[0m X_train \u001b[38;5;241m=\u001b[39m \u001b[43mlda\u001b[49m\u001b[38;5;241;43m.\u001b[39;49m\u001b[43mfit_transform\u001b[49m\u001b[43m(\u001b[49m\u001b[43mX_train\u001b[49m\u001b[43m,\u001b[49m\u001b[43m \u001b[49m\u001b[43my_train\u001b[49m\u001b[43m)\u001b[49m\n\u001b[1;32m      4\u001b[0m X_test \u001b[38;5;241m=\u001b[39m lda\u001b[38;5;241m.\u001b[39mtransform(X_test)\n",
      "File \u001b[0;32m~/opt/anaconda3/lib/python3.9/site-packages/sklearn/base.py:855\u001b[0m, in \u001b[0;36mTransformerMixin.fit_transform\u001b[0;34m(self, X, y, **fit_params)\u001b[0m\n\u001b[1;32m    852\u001b[0m     \u001b[38;5;28;01mreturn\u001b[39;00m \u001b[38;5;28mself\u001b[39m\u001b[38;5;241m.\u001b[39mfit(X, \u001b[38;5;241m*\u001b[39m\u001b[38;5;241m*\u001b[39mfit_params)\u001b[38;5;241m.\u001b[39mtransform(X)\n\u001b[1;32m    853\u001b[0m \u001b[38;5;28;01melse\u001b[39;00m:\n\u001b[1;32m    854\u001b[0m     \u001b[38;5;66;03m# fit method of arity 2 (supervised transformation)\u001b[39;00m\n\u001b[0;32m--> 855\u001b[0m     \u001b[38;5;28;01mreturn\u001b[39;00m \u001b[38;5;28;43mself\u001b[39;49m\u001b[38;5;241;43m.\u001b[39;49m\u001b[43mfit\u001b[49m\u001b[43m(\u001b[49m\u001b[43mX\u001b[49m\u001b[43m,\u001b[49m\u001b[43m \u001b[49m\u001b[43my\u001b[49m\u001b[43m,\u001b[49m\u001b[43m \u001b[49m\u001b[38;5;241;43m*\u001b[39;49m\u001b[38;5;241;43m*\u001b[39;49m\u001b[43mfit_params\u001b[49m\u001b[43m)\u001b[49m\u001b[38;5;241m.\u001b[39mtransform(X)\n",
      "File \u001b[0;32m~/opt/anaconda3/lib/python3.9/site-packages/sklearn/discriminant_analysis.py:590\u001b[0m, in \u001b[0;36mLinearDiscriminantAnalysis.fit\u001b[0;34m(self, X, y)\u001b[0m\n\u001b[1;32m    584\u001b[0m     \u001b[38;5;28;01mif\u001b[39;00m \u001b[38;5;28mself\u001b[39m\u001b[38;5;241m.\u001b[39mcovariance_estimator \u001b[38;5;129;01mis\u001b[39;00m \u001b[38;5;129;01mnot\u001b[39;00m \u001b[38;5;28;01mNone\u001b[39;00m:\n\u001b[1;32m    585\u001b[0m         \u001b[38;5;28;01mraise\u001b[39;00m \u001b[38;5;167;01mValueError\u001b[39;00m(\n\u001b[1;32m    586\u001b[0m             \u001b[38;5;124m\"\u001b[39m\u001b[38;5;124mcovariance estimator \u001b[39m\u001b[38;5;124m\"\u001b[39m\n\u001b[1;32m    587\u001b[0m             \u001b[38;5;124m\"\u001b[39m\u001b[38;5;124mis not supported \u001b[39m\u001b[38;5;124m\"\u001b[39m\n\u001b[1;32m    588\u001b[0m             \u001b[38;5;124m\"\u001b[39m\u001b[38;5;124mwith svd solver. Try another solver\u001b[39m\u001b[38;5;124m\"\u001b[39m\n\u001b[1;32m    589\u001b[0m         )\n\u001b[0;32m--> 590\u001b[0m     \u001b[38;5;28;43mself\u001b[39;49m\u001b[38;5;241;43m.\u001b[39;49m\u001b[43m_solve_svd\u001b[49m\u001b[43m(\u001b[49m\u001b[43mX\u001b[49m\u001b[43m,\u001b[49m\u001b[43m \u001b[49m\u001b[43my\u001b[49m\u001b[43m)\u001b[49m\n\u001b[1;32m    591\u001b[0m \u001b[38;5;28;01melif\u001b[39;00m \u001b[38;5;28mself\u001b[39m\u001b[38;5;241m.\u001b[39msolver \u001b[38;5;241m==\u001b[39m \u001b[38;5;124m\"\u001b[39m\u001b[38;5;124mlsqr\u001b[39m\u001b[38;5;124m\"\u001b[39m:\n\u001b[1;32m    592\u001b[0m     \u001b[38;5;28mself\u001b[39m\u001b[38;5;241m.\u001b[39m_solve_lsqr(\n\u001b[1;32m    593\u001b[0m         X,\n\u001b[1;32m    594\u001b[0m         y,\n\u001b[1;32m    595\u001b[0m         shrinkage\u001b[38;5;241m=\u001b[39m\u001b[38;5;28mself\u001b[39m\u001b[38;5;241m.\u001b[39mshrinkage,\n\u001b[1;32m    596\u001b[0m         covariance_estimator\u001b[38;5;241m=\u001b[39m\u001b[38;5;28mself\u001b[39m\u001b[38;5;241m.\u001b[39mcovariance_estimator,\n\u001b[1;32m    597\u001b[0m     )\n",
      "File \u001b[0;32m~/opt/anaconda3/lib/python3.9/site-packages/sklearn/discriminant_analysis.py:488\u001b[0m, in \u001b[0;36mLinearDiscriminantAnalysis._solve_svd\u001b[0;34m(self, X, y)\u001b[0m\n\u001b[1;32m    486\u001b[0m X \u001b[38;5;241m=\u001b[39m np\u001b[38;5;241m.\u001b[39msqrt(fac) \u001b[38;5;241m*\u001b[39m (Xc \u001b[38;5;241m/\u001b[39m std)\n\u001b[1;32m    487\u001b[0m \u001b[38;5;66;03m# SVD of centered (within)scaled data\u001b[39;00m\n\u001b[0;32m--> 488\u001b[0m U, S, Vt \u001b[38;5;241m=\u001b[39m \u001b[43mlinalg\u001b[49m\u001b[38;5;241;43m.\u001b[39;49m\u001b[43msvd\u001b[49m\u001b[43m(\u001b[49m\u001b[43mX\u001b[49m\u001b[43m,\u001b[49m\u001b[43m \u001b[49m\u001b[43mfull_matrices\u001b[49m\u001b[38;5;241;43m=\u001b[39;49m\u001b[38;5;28;43;01mFalse\u001b[39;49;00m\u001b[43m)\u001b[49m\n\u001b[1;32m    490\u001b[0m rank \u001b[38;5;241m=\u001b[39m np\u001b[38;5;241m.\u001b[39msum(S \u001b[38;5;241m>\u001b[39m \u001b[38;5;28mself\u001b[39m\u001b[38;5;241m.\u001b[39mtol)\n\u001b[1;32m    491\u001b[0m \u001b[38;5;66;03m# Scaling of within covariance is: V' 1/S\u001b[39;00m\n",
      "File \u001b[0;32m~/opt/anaconda3/lib/python3.9/site-packages/scipy/linalg/decomp_svd.py:131\u001b[0m, in \u001b[0;36msvd\u001b[0;34m(a, full_matrices, compute_uv, overwrite_a, check_finite, lapack_driver)\u001b[0m\n\u001b[1;32m    127\u001b[0m u, s, v, info \u001b[38;5;241m=\u001b[39m gesXd(a1, compute_uv\u001b[38;5;241m=\u001b[39mcompute_uv, lwork\u001b[38;5;241m=\u001b[39mlwork,\n\u001b[1;32m    128\u001b[0m                       full_matrices\u001b[38;5;241m=\u001b[39mfull_matrices, overwrite_a\u001b[38;5;241m=\u001b[39moverwrite_a)\n\u001b[1;32m    130\u001b[0m \u001b[38;5;28;01mif\u001b[39;00m info \u001b[38;5;241m>\u001b[39m \u001b[38;5;241m0\u001b[39m:\n\u001b[0;32m--> 131\u001b[0m     \u001b[38;5;28;01mraise\u001b[39;00m LinAlgError(\u001b[38;5;124m\"\u001b[39m\u001b[38;5;124mSVD did not converge\u001b[39m\u001b[38;5;124m\"\u001b[39m)\n\u001b[1;32m    132\u001b[0m \u001b[38;5;28;01mif\u001b[39;00m info \u001b[38;5;241m<\u001b[39m \u001b[38;5;241m0\u001b[39m:\n\u001b[1;32m    133\u001b[0m     \u001b[38;5;28;01mraise\u001b[39;00m \u001b[38;5;167;01mValueError\u001b[39;00m(\u001b[38;5;124m'\u001b[39m\u001b[38;5;124millegal value in \u001b[39m\u001b[38;5;132;01m%d\u001b[39;00m\u001b[38;5;124mth argument of internal gesdd\u001b[39m\u001b[38;5;124m'\u001b[39m\n\u001b[1;32m    134\u001b[0m                      \u001b[38;5;241m%\u001b[39m \u001b[38;5;241m-\u001b[39minfo)\n",
      "\u001b[0;31mLinAlgError\u001b[0m: SVD did not converge"
     ]
    }
   ],
   "source": [
    "from sklearn.discriminant_analysis import LinearDiscriminantAnalysis as LDA\n",
    "lda = LDA(n_components = 1)\n",
    "X_train = lda.fit_transform(X_train, y_train)\n",
    "X_test = lda.transform(X_test)"
   ]
  },
  {
   "cell_type": "code",
   "execution_count": null,
   "id": "d132b321-d981-46e0-945f-0693b581d8f8",
   "metadata": {},
   "outputs": [],
   "source": [
    "from sklearn.linear_model import LogisticRegression\n",
    "classifier = LogisticRegression(random_state = 0)\n",
    "classifier.fit(X_train, y_train)"
   ]
  },
  {
   "cell_type": "code",
   "execution_count": null,
   "id": "215a15ce-9262-4d4c-895e-c62ef359f22a",
   "metadata": {},
   "outputs": [],
   "source": [
    "from sklearn.metrics import confusion_matrix, accuracy_score\n",
    "y_pred = classifier.predict(X_test)\n",
    "cm = confusion_matrix(y_test, y_pred)\n",
    "print(cm)\n",
    "accuracy_score(y_test, y_pred)"
   ]
  },
  {
   "cell_type": "markdown",
   "id": "e5002d16-6582-4017-a700-faad9132027b",
   "metadata": {},
   "source": [
    "As the data is supervised, PCA is not possible . As the data which I considered has only 2 classes for prediction, LDA is not supportable due to the below statement\n",
    "n_components cannot be larger than min(n_features, n_classes - 1\n",
    ")."
   ]
  },
  {
   "cell_type": "markdown",
   "id": "0047c7e3-47e9-48db-9a95-60a6162b0aff",
   "metadata": {},
   "source": [
    "So, dimensional analysis is not possible. the data can be viewd from clusters."
   ]
  },
  {
   "cell_type": "markdown",
   "id": "89aa307d-de7a-441e-8389-9640904fcc01",
   "metadata": {},
   "source": [
    "To perform dimensionl analysis, we need two axis, x-axis and y-axis. Here, number of classes are two, n_components min(features, n_classes-1) i.e. 2-1=1. min(features, 1), minimum is 1. So, we are getting only one axis, we cannot perform dimensional analysis with one axis."
   ]
  },
  {
   "cell_type": "markdown",
   "id": "76df6ed8-9128-4c87-84e5-b4131fd61ce7",
   "metadata": {},
   "source": [
    "#### What you have discovered in data?"
   ]
  },
  {
   "cell_type": "markdown",
   "id": "0545ada3-d2a6-453f-97ca-d50403afc9c9",
   "metadata": {},
   "source": [
    "As the data do not contain any anomolous data and the data is supervised, we can predict it with any supervised models like random forest, neural nets and regression to get best accuracy. For the dataset, we got 5 clusters as shown above. "
   ]
  },
  {
   "cell_type": "markdown",
   "id": "0f1a8a8a-72cb-4759-ae3b-91faadba4d97",
   "metadata": {},
   "source": [
    "#### Anomolous data"
   ]
  },
  {
   "cell_type": "markdown",
   "id": "8edd82a7-85fc-4159-8e82-b206b60e4ee4",
   "metadata": {},
   "source": [
    "There is no anomolous data for this dataset. Anomaly detection is identifying data points in data that don't fit the normal patterns. We usually perform anomaly detection to make it more effective, especially when large datasets are involved."
   ]
  },
  {
   "cell_type": "markdown",
   "id": "26ce0124-641a-4a7a-840d-2ddfb4e85f23",
   "metadata": {},
   "source": [
    "As explained above, The dataset do not have anomolous data."
   ]
  },
  {
   "cell_type": "markdown",
   "id": "c2f5b5c4-e3da-4346-b657-bd942a7fce04",
   "metadata": {},
   "source": [
    "### Random forest"
   ]
  },
  {
   "cell_type": "code",
   "execution_count": null,
   "id": "82d0135f-4964-4d74-b86c-8e8358b9ff6c",
   "metadata": {},
   "outputs": [],
   "source": [
    "from sklearn.ensemble import RandomForestClassifier\n",
    "classifier = RandomForestClassifier(n_estimators = 10, criterion = 'entropy', random_state = 0)\n",
    "classifier.fit(X_train, y_train)"
   ]
  },
  {
   "cell_type": "code",
   "execution_count": null,
   "id": "8168c321-1c35-47f5-8914-d8c4d4c9efd0",
   "metadata": {},
   "outputs": [],
   "source": [
    "y_pred = classifier.predict(X_test)"
   ]
  },
  {
   "cell_type": "code",
   "execution_count": null,
   "id": "c6d25aab-86fb-4a7c-b13c-3d15e7dfe988",
   "metadata": {},
   "outputs": [],
   "source": [
    "from sklearn.metrics import confusion_matrix, accuracy_score\n",
    "cm = confusion_matrix(y_test, y_pred)\n",
    "print(cm)\n",
    "accuracy_score(y_test, y_pred)"
   ]
  },
  {
   "cell_type": "code",
   "execution_count": null,
   "id": "9033afaf-4586-4031-bed6-c33db7f0ab4e",
   "metadata": {},
   "outputs": [],
   "source": [
    "!pip install tensorflow"
   ]
  },
  {
   "cell_type": "code",
   "execution_count": null,
   "id": "e2b4c315-ab7a-49e2-b18d-3031414a2635",
   "metadata": {},
   "outputs": [],
   "source": [
    "!pip install tensorflow\n",
    "\n",
    "import tensorflow as tf\n",
    "ann = tf.keras.models.Sequential()\n",
    "ann.add(tf.keras.layers.Dense(units=6, activation='relu'))\n",
    "ann.add(tf.keras.layers.Dense(units=6, activation='relu'))\n",
    "ann.add(tf.keras.layers.Dense(units=1, activation='sigmoid'))\n",
    "ann.compile(optimizer = 'adam', loss = 'binary_crossentropy', metrics = ['accuracy'])\n",
    "ann.fit(X_train, y_train, batch_size = 32, epochs = 200)\n",
    "\n",
    "y_pred = ann.predict(X_test)\n",
    "y_pred = (y_pred > 0.5)\n",
    "\n",
    "from sklearn.metrics import confusion_matrix, accuracy_score\n",
    "cm = confusion_matrix(y_test, y_pred)\n",
    "print(cm)\n",
    "accuracy_score(y_test, y_pred)a"
   ]
  },
  {
   "cell_type": "code",
   "execution_count": null,
   "id": "8bad579b-ee61-4667-91e3-7207323cd676",
   "metadata": {},
   "outputs": [],
   "source": [
    "y_pred = ann.predict(X_test)\n",
    "y_pred = (y_pred > 0.5)"
   ]
  },
  {
   "cell_type": "code",
   "execution_count": null,
   "id": "b7e257a3-9b54-4c3a-9726-606af41db401",
   "metadata": {},
   "outputs": [],
   "source": [
    "from sklearn.metrics import confusion_matrix, accuracy_score\n",
    "cm = confusion_matrix(y_test, y_pred)\n",
    "print(cm)\n",
    "accuracy_score(y_test, y_pred)a"
   ]
  },
  {
   "cell_type": "code",
   "execution_count": null,
   "id": "8eebc0d4-fad4-49e6-ad08-1ef7896659a2",
   "metadata": {},
   "outputs": [],
   "source": []
  }
 ],
 "metadata": {
  "kernelspec": {
   "display_name": "Python 3 (ipykernel)",
   "language": "python",
   "name": "python3"
  },
  "language_info": {
   "codemirror_mode": {
    "name": "ipython",
    "version": 3
   },
   "file_extension": ".py",
   "mimetype": "text/x-python",
   "name": "python",
   "nbconvert_exporter": "python",
   "pygments_lexer": "ipython3",
   "version": "3.9.12"
  }
 },
 "nbformat": 4,
 "nbformat_minor": 5
}
